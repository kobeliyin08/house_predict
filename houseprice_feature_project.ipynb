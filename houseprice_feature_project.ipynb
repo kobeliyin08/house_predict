{
 "cells": [
  {
   "cell_type": "code",
   "execution_count": 1,
   "id": "0513757d-44ca-4c54-96da-b3ec08d74af2",
   "metadata": {
    "execution": {
     "iopub.execute_input": "2023-03-22T07:37:41.246930Z",
     "iopub.status.busy": "2023-03-22T07:37:41.246196Z",
     "iopub.status.idle": "2023-03-22T07:37:43.055361Z",
     "shell.execute_reply": "2023-03-22T07:37:43.054694Z",
     "shell.execute_reply.started": "2023-03-22T07:37:41.246908Z"
    },
    "tags": []
   },
   "outputs": [],
   "source": [
    "import pandas as pd\n",
    "import numpy as np\n",
    "import seaborn as sns\n",
    "from sklearn.model_selection import KFold\n",
    "from sklearn.metrics import mean_absolute_error as mae\n",
    "import xgboost as xgb\n",
    "import seaborn as sns\n",
    "\n",
    "import warnings\n",
    "\n",
    "warnings.filterwarnings(\"ignore\")"
   ]
  },
  {
   "cell_type": "code",
   "execution_count": 2,
   "id": "83fa00de-c1be-4c8f-bfb8-7787452f39d1",
   "metadata": {
    "execution": {
     "iopub.execute_input": "2023-03-22T07:37:43.448627Z",
     "iopub.status.busy": "2023-03-22T07:37:43.447637Z",
     "iopub.status.idle": "2023-03-22T07:37:43.728000Z",
     "shell.execute_reply": "2023-03-22T07:37:43.727027Z",
     "shell.execute_reply.started": "2023-03-22T07:37:43.448603Z"
    },
    "tags": []
   },
   "outputs": [],
   "source": [
    "#train.csv为有label的数据\n",
    "#test.csv为无label的数据\n",
    "\n",
    "df_train = pd.read_csv('/home/liyin_work/机器学习/房屋租金价格预测/data/train.csv')\n",
    "df_test = pd.read_csv('/home/liyin_work/机器学习/房屋租金价格预测/data/test.csv')"
   ]
  },
  {
   "cell_type": "code",
   "execution_count": 3,
   "id": "09a83d31-aa8a-4677-ba73-0b8f04b3aab0",
   "metadata": {
    "execution": {
     "iopub.execute_input": "2023-03-22T07:37:43.835379Z",
     "iopub.status.busy": "2023-03-22T07:37:43.834413Z",
     "iopub.status.idle": "2023-03-22T07:37:44.002179Z",
     "shell.execute_reply": "2023-03-22T07:37:44.001458Z",
     "shell.execute_reply.started": "2023-03-22T07:37:43.835355Z"
    },
    "tags": []
   },
   "outputs": [
    {
     "data": {
      "text/html": [
       "<div>\n",
       "<style scoped>\n",
       "    .dataframe tbody tr th:only-of-type {\n",
       "        vertical-align: middle;\n",
       "    }\n",
       "\n",
       "    .dataframe tbody tr th {\n",
       "        vertical-align: top;\n",
       "    }\n",
       "\n",
       "    .dataframe thead th {\n",
       "        text-align: right;\n",
       "    }\n",
       "</style>\n",
       "<table border=\"1\" class=\"dataframe\">\n",
       "  <thead>\n",
       "    <tr style=\"text-align: right;\">\n",
       "      <th></th>\n",
       "      <th>ID</th>\n",
       "      <th>区域1</th>\n",
       "      <th>区域2</th>\n",
       "      <th>区域3</th>\n",
       "      <th>街道</th>\n",
       "      <th>房屋租金</th>\n",
       "      <th>服务费</th>\n",
       "      <th>供暖费用</th>\n",
       "      <th>电力基础价格</th>\n",
       "      <th>没有停车位</th>\n",
       "      <th>...</th>\n",
       "      <th>加热类型</th>\n",
       "      <th>房屋类型</th>\n",
       "      <th>邮政编码</th>\n",
       "      <th>房间数量</th>\n",
       "      <th>所处楼层</th>\n",
       "      <th>建筑楼层</th>\n",
       "      <th>最后翻新年份</th>\n",
       "      <th>建成年份</th>\n",
       "      <th>价格趋势</th>\n",
       "      <th>上传图片数</th>\n",
       "    </tr>\n",
       "  </thead>\n",
       "  <tbody>\n",
       "    <tr>\n",
       "      <th>count</th>\n",
       "      <td>200000.000000</td>\n",
       "      <td>200000.00000</td>\n",
       "      <td>200000.000000</td>\n",
       "      <td>200000.000000</td>\n",
       "      <td>200000.000000</td>\n",
       "      <td>2.000000e+05</td>\n",
       "      <td>194878.000000</td>\n",
       "      <td>63507.000000</td>\n",
       "      <td>34806.000000</td>\n",
       "      <td>69183.000000</td>\n",
       "      <td>...</td>\n",
       "      <td>199881.000000</td>\n",
       "      <td>195799.000000</td>\n",
       "      <td>200000.000000</td>\n",
       "      <td>200000.000000</td>\n",
       "      <td>161736.000000</td>\n",
       "      <td>127329.000000</td>\n",
       "      <td>60166.000000</td>\n",
       "      <td>157522.000000</td>\n",
       "      <td>198679.00000</td>\n",
       "      <td>200000.000000</td>\n",
       "    </tr>\n",
       "    <tr>\n",
       "      <th>mean</th>\n",
       "      <td>99999.500000</td>\n",
       "      <td>5.11352</td>\n",
       "      <td>112.193435</td>\n",
       "      <td>1452.648445</td>\n",
       "      <td>8684.393950</td>\n",
       "      <td>7.050609e+02</td>\n",
       "      <td>150.694673</td>\n",
       "      <td>77.473713</td>\n",
       "      <td>89.115567</td>\n",
       "      <td>1.337482</td>\n",
       "      <td>...</td>\n",
       "      <td>2.383513</td>\n",
       "      <td>1.779018</td>\n",
       "      <td>1466.059120</td>\n",
       "      <td>2.638721</td>\n",
       "      <td>2.122106</td>\n",
       "      <td>3.573703</td>\n",
       "      <td>2013.928747</td>\n",
       "      <td>1966.374310</td>\n",
       "      <td>3.38789</td>\n",
       "      <td>9.789215</td>\n",
       "    </tr>\n",
       "    <tr>\n",
       "      <th>std</th>\n",
       "      <td>57735.171256</td>\n",
       "      <td>4.38307</td>\n",
       "      <td>102.461610</td>\n",
       "      <td>1570.143349</td>\n",
       "      <td>11463.243457</td>\n",
       "      <td>2.253782e+04</td>\n",
       "      <td>125.662569</td>\n",
       "      <td>161.982694</td>\n",
       "      <td>5.392918</td>\n",
       "      <td>9.362136</td>\n",
       "      <td>...</td>\n",
       "      <td>2.354078</td>\n",
       "      <td>2.481294</td>\n",
       "      <td>1383.885453</td>\n",
       "      <td>1.977911</td>\n",
       "      <td>3.731785</td>\n",
       "      <td>6.622676</td>\n",
       "      <td>10.551631</td>\n",
       "      <td>46.906557</td>\n",
       "      <td>1.96158</td>\n",
       "      <td>6.399923</td>\n",
       "    </tr>\n",
       "    <tr>\n",
       "      <th>min</th>\n",
       "      <td>0.000000</td>\n",
       "      <td>0.00000</td>\n",
       "      <td>0.000000</td>\n",
       "      <td>0.000000</td>\n",
       "      <td>0.000000</td>\n",
       "      <td>0.000000e+00</td>\n",
       "      <td>0.000000</td>\n",
       "      <td>0.000000</td>\n",
       "      <td>71.430000</td>\n",
       "      <td>0.000000</td>\n",
       "      <td>...</td>\n",
       "      <td>0.000000</td>\n",
       "      <td>0.000000</td>\n",
       "      <td>0.000000</td>\n",
       "      <td>1.000000</td>\n",
       "      <td>-1.000000</td>\n",
       "      <td>0.000000</td>\n",
       "      <td>1867.000000</td>\n",
       "      <td>1007.000000</td>\n",
       "      <td>-9.17000</td>\n",
       "      <td>0.000000</td>\n",
       "    </tr>\n",
       "    <tr>\n",
       "      <th>25%</th>\n",
       "      <td>49999.750000</td>\n",
       "      <td>1.00000</td>\n",
       "      <td>32.000000</td>\n",
       "      <td>307.000000</td>\n",
       "      <td>1.000000</td>\n",
       "      <td>3.381000e+02</td>\n",
       "      <td>95.000000</td>\n",
       "      <td>54.000000</td>\n",
       "      <td>90.760000</td>\n",
       "      <td>1.000000</td>\n",
       "      <td>...</td>\n",
       "      <td>1.000000</td>\n",
       "      <td>0.000000</td>\n",
       "      <td>365.000000</td>\n",
       "      <td>2.000000</td>\n",
       "      <td>1.000000</td>\n",
       "      <td>2.000000</td>\n",
       "      <td>2012.000000</td>\n",
       "      <td>1950.000000</td>\n",
       "      <td>2.00000</td>\n",
       "      <td>6.000000</td>\n",
       "    </tr>\n",
       "    <tr>\n",
       "      <th>50%</th>\n",
       "      <td>99999.500000</td>\n",
       "      <td>5.00000</td>\n",
       "      <td>74.000000</td>\n",
       "      <td>879.000000</td>\n",
       "      <td>3136.000000</td>\n",
       "      <td>4.900000e+02</td>\n",
       "      <td>135.000000</td>\n",
       "      <td>70.000000</td>\n",
       "      <td>90.760000</td>\n",
       "      <td>1.000000</td>\n",
       "      <td>...</td>\n",
       "      <td>1.000000</td>\n",
       "      <td>1.000000</td>\n",
       "      <td>1034.000000</td>\n",
       "      <td>3.000000</td>\n",
       "      <td>2.000000</td>\n",
       "      <td>3.000000</td>\n",
       "      <td>2017.000000</td>\n",
       "      <td>1973.000000</td>\n",
       "      <td>3.39000</td>\n",
       "      <td>9.000000</td>\n",
       "    </tr>\n",
       "    <tr>\n",
       "      <th>75%</th>\n",
       "      <td>149999.250000</td>\n",
       "      <td>8.00000</td>\n",
       "      <td>176.000000</td>\n",
       "      <td>2064.000000</td>\n",
       "      <td>13570.250000</td>\n",
       "      <td>7.990000e+02</td>\n",
       "      <td>190.000000</td>\n",
       "      <td>90.000000</td>\n",
       "      <td>90.760000</td>\n",
       "      <td>1.000000</td>\n",
       "      <td>...</td>\n",
       "      <td>3.000000</td>\n",
       "      <td>2.000000</td>\n",
       "      <td>2169.000000</td>\n",
       "      <td>3.000000</td>\n",
       "      <td>3.000000</td>\n",
       "      <td>4.000000</td>\n",
       "      <td>2019.000000</td>\n",
       "      <td>1996.000000</td>\n",
       "      <td>4.57000</td>\n",
       "      <td>13.000000</td>\n",
       "    </tr>\n",
       "    <tr>\n",
       "      <th>max</th>\n",
       "      <td>199999.000000</td>\n",
       "      <td>15.00000</td>\n",
       "      <td>418.000000</td>\n",
       "      <td>8225.000000</td>\n",
       "      <td>44189.000000</td>\n",
       "      <td>9.999999e+06</td>\n",
       "      <td>25000.000000</td>\n",
       "      <td>12613.000000</td>\n",
       "      <td>90.760000</td>\n",
       "      <td>2241.000000</td>\n",
       "      <td>...</td>\n",
       "      <td>12.000000</td>\n",
       "      <td>9.000000</td>\n",
       "      <td>7218.000000</td>\n",
       "      <td>560.000000</td>\n",
       "      <td>999.000000</td>\n",
       "      <td>999.000000</td>\n",
       "      <td>2919.000000</td>\n",
       "      <td>2090.000000</td>\n",
       "      <td>12.87000</td>\n",
       "      <td>121.000000</td>\n",
       "    </tr>\n",
       "  </tbody>\n",
       "</table>\n",
       "<p>8 rows × 23 columns</p>\n",
       "</div>"
      ],
      "text/plain": [
       "                  ID           区域1            区域2            区域3  \\\n",
       "count  200000.000000  200000.00000  200000.000000  200000.000000   \n",
       "mean    99999.500000       5.11352     112.193435    1452.648445   \n",
       "std     57735.171256       4.38307     102.461610    1570.143349   \n",
       "min         0.000000       0.00000       0.000000       0.000000   \n",
       "25%     49999.750000       1.00000      32.000000     307.000000   \n",
       "50%     99999.500000       5.00000      74.000000     879.000000   \n",
       "75%    149999.250000       8.00000     176.000000    2064.000000   \n",
       "max    199999.000000      15.00000     418.000000    8225.000000   \n",
       "\n",
       "                  街道          房屋租金            服务费          供暖费用        电力基础价格  \\\n",
       "count  200000.000000  2.000000e+05  194878.000000  63507.000000  34806.000000   \n",
       "mean     8684.393950  7.050609e+02     150.694673     77.473713     89.115567   \n",
       "std     11463.243457  2.253782e+04     125.662569    161.982694      5.392918   \n",
       "min         0.000000  0.000000e+00       0.000000      0.000000     71.430000   \n",
       "25%         1.000000  3.381000e+02      95.000000     54.000000     90.760000   \n",
       "50%      3136.000000  4.900000e+02     135.000000     70.000000     90.760000   \n",
       "75%     13570.250000  7.990000e+02     190.000000     90.000000     90.760000   \n",
       "max     44189.000000  9.999999e+06   25000.000000  12613.000000     90.760000   \n",
       "\n",
       "              没有停车位  ...           加热类型           房屋类型           邮政编码  \\\n",
       "count  69183.000000  ...  199881.000000  195799.000000  200000.000000   \n",
       "mean       1.337482  ...       2.383513       1.779018    1466.059120   \n",
       "std        9.362136  ...       2.354078       2.481294    1383.885453   \n",
       "min        0.000000  ...       0.000000       0.000000       0.000000   \n",
       "25%        1.000000  ...       1.000000       0.000000     365.000000   \n",
       "50%        1.000000  ...       1.000000       1.000000    1034.000000   \n",
       "75%        1.000000  ...       3.000000       2.000000    2169.000000   \n",
       "max     2241.000000  ...      12.000000       9.000000    7218.000000   \n",
       "\n",
       "                房间数量           所处楼层           建筑楼层        最后翻新年份  \\\n",
       "count  200000.000000  161736.000000  127329.000000  60166.000000   \n",
       "mean        2.638721       2.122106       3.573703   2013.928747   \n",
       "std         1.977911       3.731785       6.622676     10.551631   \n",
       "min         1.000000      -1.000000       0.000000   1867.000000   \n",
       "25%         2.000000       1.000000       2.000000   2012.000000   \n",
       "50%         3.000000       2.000000       3.000000   2017.000000   \n",
       "75%         3.000000       3.000000       4.000000   2019.000000   \n",
       "max       560.000000     999.000000     999.000000   2919.000000   \n",
       "\n",
       "                建成年份          价格趋势          上传图片数  \n",
       "count  157522.000000  198679.00000  200000.000000  \n",
       "mean     1966.374310       3.38789       9.789215  \n",
       "std        46.906557       1.96158       6.399923  \n",
       "min      1007.000000      -9.17000       0.000000  \n",
       "25%      1950.000000       2.00000       6.000000  \n",
       "50%      1973.000000       3.39000       9.000000  \n",
       "75%      1996.000000       4.57000      13.000000  \n",
       "max      2090.000000      12.87000     121.000000  \n",
       "\n",
       "[8 rows x 23 columns]"
      ]
     },
     "execution_count": 3,
     "metadata": {},
     "output_type": "execute_result"
    }
   ],
   "source": [
    "df_train.describe()"
   ]
  },
  {
   "cell_type": "markdown",
   "id": "a0ef7e74-7a70-415f-9d37-1020c9191018",
   "metadata": {},
   "source": [
    "## 上传日期"
   ]
  },
  {
   "cell_type": "code",
   "execution_count": 4,
   "id": "34fb03b3-ac65-495e-90e7-910a87945f3a",
   "metadata": {
    "execution": {
     "iopub.execute_input": "2023-03-22T07:37:45.012727Z",
     "iopub.status.busy": "2023-03-22T07:37:45.012393Z",
     "iopub.status.idle": "2023-03-22T07:37:45.025693Z",
     "shell.execute_reply": "2023-03-22T07:37:45.024757Z",
     "shell.execute_reply.started": "2023-03-22T07:37:45.012709Z"
    },
    "tags": []
   },
   "outputs": [
    {
     "data": {
      "text/plain": [
       "array(['Oct19', 'Feb20', 'May19', 'Sep18'], dtype=object)"
      ]
     },
     "execution_count": 4,
     "metadata": {},
     "output_type": "execute_result"
    }
   ],
   "source": [
    "df_train['上传日期'].unique()"
   ]
  },
  {
   "cell_type": "code",
   "execution_count": 5,
   "id": "a352097d-50a4-4ce3-8041-e3fbc9555a9c",
   "metadata": {
    "execution": {
     "iopub.execute_input": "2023-03-22T07:37:45.540720Z",
     "iopub.status.busy": "2023-03-22T07:37:45.539762Z",
     "iopub.status.idle": "2023-03-22T07:37:45.792565Z",
     "shell.execute_reply": "2023-03-22T07:37:45.791727Z",
     "shell.execute_reply.started": "2023-03-22T07:37:45.540699Z"
    },
    "tags": []
   },
   "outputs": [
    {
     "data": {
      "text/plain": [
       "<seaborn.axisgrid.FacetGrid at 0x7f94898baa30>"
      ]
     },
     "execution_count": 5,
     "metadata": {},
     "output_type": "execute_result"
    },
    {
     "data": {
      "image/png": "[encoded data removed]",
      "text/plain": [
       "<Figure size 500x500 with 1 Axes>"
      ]
     },
     "metadata": {},
     "output_type": "display_data"
    }
   ],
   "source": [
    "sns.displot(df_train['上传日期'])"
   ]
  },
  {
   "cell_type": "code",
   "execution_count": 6,
   "id": "018984d7-67cf-48bb-a4f6-9a8301fcafa1",
   "metadata": {
    "execution": {
     "iopub.execute_input": "2023-03-22T07:37:46.262738Z",
     "iopub.status.busy": "2023-03-22T07:37:46.261861Z",
     "iopub.status.idle": "2023-03-22T07:37:46.336803Z",
     "shell.execute_reply": "2023-03-22T07:37:46.336116Z",
     "shell.execute_reply.started": "2023-03-22T07:37:46.262712Z"
    },
    "tags": []
   },
   "outputs": [],
   "source": [
    "#将上传日期分割成day和month两个特征\n",
    "df_train['上传日期_day'] = df_train['上传日期'].apply(lambda x: int(x[-2:]))\n",
    "df_test['上传日期_day'] = df_test['上传日期'].apply(lambda x: int(x[-2:]))"
   ]
  },
  {
   "cell_type": "code",
   "execution_count": 7,
   "id": "c4a3bfdb-24ca-44bf-82a6-a4eee4479511",
   "metadata": {
    "execution": {
     "iopub.execute_input": "2023-03-22T07:37:47.129316Z",
     "iopub.status.busy": "2023-03-22T07:37:47.128270Z",
     "iopub.status.idle": "2023-03-22T07:37:47.183389Z",
     "shell.execute_reply": "2023-03-22T07:37:47.182583Z",
     "shell.execute_reply.started": "2023-03-22T07:37:47.129284Z"
    },
    "tags": []
   },
   "outputs": [],
   "source": [
    "df_train['上传日期_month'] = df_train['上传日期'].apply(lambda x: x[:3])\n",
    "df_test['上传日期_month'] = df_test['上传日期'].apply(lambda x: x[:3])"
   ]
  },
  {
   "cell_type": "code",
   "execution_count": 8,
   "id": "a330bbb7-fc4a-49f0-aa38-8bf07e6f5d34",
   "metadata": {
    "execution": {
     "iopub.execute_input": "2023-03-22T07:37:48.842885Z",
     "iopub.status.busy": "2023-03-22T07:37:48.842561Z",
     "iopub.status.idle": "2023-03-22T07:37:48.911527Z",
     "shell.execute_reply": "2023-03-22T07:37:48.910615Z",
     "shell.execute_reply.started": "2023-03-22T07:37:48.842868Z"
    },
    "tags": []
   },
   "outputs": [],
   "source": [
    "df_train['上传日期_month'] = df_train['上传日期_month'].apply(lambda x: ['Feb','May','Sep','Oct'].index(x))\n",
    "df_test['上传日期_month'] = df_test['上传日期_month'].apply(lambda x: ['Feb','May','Sep','Oct'].index(x))"
   ]
  },
  {
   "cell_type": "code",
   "execution_count": 9,
   "id": "0ac84af5-7a82-40eb-aea8-b939ca47b80f",
   "metadata": {
    "execution": {
     "iopub.execute_input": "2023-03-22T07:37:49.266008Z",
     "iopub.status.busy": "2023-03-22T07:37:49.265146Z",
     "iopub.status.idle": "2023-03-22T07:37:49.287603Z",
     "shell.execute_reply": "2023-03-22T07:37:49.286811Z",
     "shell.execute_reply.started": "2023-03-22T07:37:49.265989Z"
    },
    "tags": []
   },
   "outputs": [],
   "source": [
    "#将上传日期这列删除\n",
    "df_train.drop(['上传日期'], axis=1, inplace=True)\n",
    "df_test.drop(['上传日期'], axis=1, inplace=True)"
   ]
  },
  {
   "cell_type": "markdown",
   "id": "681c0547-912f-422e-a719-6a0a08b6ab97",
   "metadata": {},
   "source": [
    "## 可带宠物"
   ]
  },
  {
   "cell_type": "code",
   "execution_count": 10,
   "id": "282aca9c-4e97-434b-9350-a2ca230af1ec",
   "metadata": {
    "execution": {
     "iopub.execute_input": "2023-03-22T07:37:53.104964Z",
     "iopub.status.busy": "2023-03-22T07:37:53.104643Z",
     "iopub.status.idle": "2023-03-22T07:37:53.119297Z",
     "shell.execute_reply": "2023-03-22T07:37:53.118583Z",
     "shell.execute_reply.started": "2023-03-22T07:37:53.104921Z"
    },
    "tags": []
   },
   "outputs": [
    {
     "data": {
      "text/plain": [
       "array(['negotiable', 'no', nan, 'yes'], dtype=object)"
      ]
     },
     "execution_count": 10,
     "metadata": {},
     "output_type": "execute_result"
    }
   ],
   "source": [
    "df_train['可带宠物'].unique()"
   ]
  },
  {
   "cell_type": "code",
   "execution_count": 11,
   "id": "43eba5e6-431b-4ee1-a004-8ac18b801ef1",
   "metadata": {
    "execution": {
     "iopub.execute_input": "2023-03-22T07:37:53.435053Z",
     "iopub.status.busy": "2023-03-22T07:37:53.434764Z",
     "iopub.status.idle": "2023-03-22T07:37:53.670449Z",
     "shell.execute_reply": "2023-03-22T07:37:53.669718Z",
     "shell.execute_reply.started": "2023-03-22T07:37:53.435036Z"
    },
    "tags": []
   },
   "outputs": [
    {
     "data": {
      "text/plain": [
       "<seaborn.axisgrid.FacetGrid at 0x7f9489758d00>"
      ]
     },
     "execution_count": 11,
     "metadata": {},
     "output_type": "execute_result"
    },
    {
     "data": {
      "image/png": "[encoded data removed]",
      "text/plain": [
       "<Figure size 500x500 with 1 Axes>"
      ]
     },
     "metadata": {},
     "output_type": "display_data"
    }
   ],
   "source": [
    "sns.displot(df_train['可带宠物'])"
   ]
  },
  {
   "cell_type": "code",
   "execution_count": 12,
   "id": "ebcc4de7-701d-4f4d-b243-794f8def9365",
   "metadata": {
    "execution": {
     "iopub.execute_input": "2023-03-22T07:37:56.185153Z",
     "iopub.status.busy": "2023-03-22T07:37:56.184563Z",
     "iopub.status.idle": "2023-03-22T07:37:56.205962Z",
     "shell.execute_reply": "2023-03-22T07:37:56.205207Z",
     "shell.execute_reply.started": "2023-03-22T07:37:56.185128Z"
    },
    "tags": []
   },
   "outputs": [],
   "source": [
    "df_train['可带宠物'] = df_train['可带宠物'].map({'negotiable':0.5,'no':0,'yes':1})\n",
    "df_test['可带宠物'] = df_test['可带宠物'].map({'negotiable':0.5,'no':0,'yes':1})"
   ]
  },
  {
   "cell_type": "markdown",
   "id": "49499572-b431-41c7-b395-3fabdbb2eef7",
   "metadata": {
    "execution": {
     "iopub.execute_input": "2023-03-22T07:23:54.720405Z",
     "iopub.status.busy": "2023-03-22T07:23:54.719619Z",
     "iopub.status.idle": "2023-03-22T07:23:54.724900Z",
     "shell.execute_reply": "2023-03-22T07:23:54.723966Z",
     "shell.execute_reply.started": "2023-03-22T07:23:54.720377Z"
    }
   },
   "source": [
    "## bool类型的特征"
   ]
  },
  {
   "cell_type": "code",
   "execution_count": 13,
   "id": "b45edf07-755e-4a17-8500-5828bffe69ff",
   "metadata": {
    "execution": {
     "iopub.execute_input": "2023-03-22T07:38:07.133116Z",
     "iopub.status.busy": "2023-03-22T07:38:07.132330Z",
     "iopub.status.idle": "2023-03-22T07:38:07.163120Z",
     "shell.execute_reply": "2023-03-22T07:38:07.162413Z",
     "shell.execute_reply.started": "2023-03-22T07:38:07.133089Z"
    },
    "tags": []
   },
   "outputs": [],
   "source": [
    "for col in df_train.select_dtypes(bool).columns:\n",
    "    df_train[col] = df_train[col].astype(int)\n",
    "    df_test[col] = df_test[col].astype(int)"
   ]
  },
  {
   "cell_type": "markdown",
   "id": "c965831e-4b0b-45be-bcc6-41c71df0a6da",
   "metadata": {},
   "source": [
    "## 房屋租金"
   ]
  },
  {
   "cell_type": "code",
   "execution_count": 14,
   "id": "e805ada5-d8ae-4fce-9824-72b2a8353f55",
   "metadata": {
    "execution": {
     "iopub.execute_input": "2023-03-22T07:38:17.033339Z",
     "iopub.status.busy": "2023-03-22T07:38:17.033059Z",
     "iopub.status.idle": "2023-03-22T07:38:17.049113Z",
     "shell.execute_reply": "2023-03-22T07:38:17.048172Z",
     "shell.execute_reply.started": "2023-03-22T07:38:17.033321Z"
    },
    "tags": []
   },
   "outputs": [
    {
     "name": "stdout",
     "output_type": "stream",
     "text": [
      "房屋租金价格为0的数量有68\n"
     ]
    }
   ],
   "source": [
    "# 查看有无零租金\n",
    "index_zero = df_train.loc[df_train['房屋租金'] == 0].index\n",
    "print('房屋租金价格为0的数量有{}'.format(len(index_zero)))"
   ]
  },
  {
   "cell_type": "code",
   "execution_count": 15,
   "id": "9d77e201-2a7a-418b-a7f4-7fe448443cd9",
   "metadata": {
    "execution": {
     "iopub.execute_input": "2023-03-22T07:38:20.598217Z",
     "iopub.status.busy": "2023-03-22T07:38:20.597476Z",
     "iopub.status.idle": "2023-03-22T07:38:20.627756Z",
     "shell.execute_reply": "2023-03-22T07:38:20.627085Z",
     "shell.execute_reply.started": "2023-03-22T07:38:20.598191Z"
    },
    "tags": []
   },
   "outputs": [],
   "source": [
    "#剔除房屋租金为0的异常值\n",
    "df_train.drop(index=index_zero, inplace=True)\n",
    "df_train = df_train.reset_index(drop=True)"
   ]
  },
  {
   "cell_type": "markdown",
   "id": "def6911d-dacd-482b-a91d-daae66bdd8dd",
   "metadata": {},
   "source": [
    "## 居住面积"
   ]
  },
  {
   "cell_type": "code",
   "execution_count": 18,
   "id": "a34377d2-dd5c-4fc0-baf7-b3b0fe731d75",
   "metadata": {
    "execution": {
     "iopub.execute_input": "2023-03-22T07:41:50.077709Z",
     "iopub.status.busy": "2023-03-22T07:41:50.077052Z",
     "iopub.status.idle": "2023-03-22T07:41:50.083076Z",
     "shell.execute_reply": "2023-03-22T07:41:50.082237Z",
     "shell.execute_reply.started": "2023-03-22T07:41:50.077688Z"
    },
    "tags": []
   },
   "outputs": [
    {
     "name": "stdout",
     "output_type": "stream",
     "text": [
      "居住面积为0的数量有52\n"
     ]
    }
   ],
   "source": [
    "#查看有无居住面积为0的\n",
    "index_zero_sq = df_train.loc[df_train['居住面积'] == 0].index\n",
    "print('居住面积为0的数量有{}'.format(len(index_zero_sq)))"
   ]
  },
  {
   "cell_type": "code",
   "execution_count": 19,
   "id": "e6c67b82-d697-44ec-8966-d3fbad710cb3",
   "metadata": {
    "execution": {
     "iopub.execute_input": "2023-03-22T07:43:13.980017Z",
     "iopub.status.busy": "2023-03-22T07:43:13.979335Z",
     "iopub.status.idle": "2023-03-22T07:43:14.000837Z",
     "shell.execute_reply": "2023-03-22T07:43:13.999993Z",
     "shell.execute_reply.started": "2023-03-22T07:43:13.979991Z"
    }
   },
   "outputs": [],
   "source": [
    "#剔除居住面积0的异常值\n",
    "df_train.drop(index=index_zero_sq,inplace=True)\n",
    "df_train = df_train.reset_index(drop=True)"
   ]
  },
  {
   "cell_type": "markdown",
   "id": "b1893ff6-1a58-46cf-a89e-0de9d5609113",
   "metadata": {},
   "source": [
    "## 将房屋租金和居住面积和其他特征组合进行特征衍生"
   ]
  },
  {
   "cell_type": "code",
   "execution_count": 20,
   "id": "ebca4feb-8ca2-43b0-92ad-46ce974b979e",
   "metadata": {
    "execution": {
     "iopub.execute_input": "2023-03-22T07:46:13.740454Z",
     "iopub.status.busy": "2023-03-22T07:46:13.739672Z",
     "iopub.status.idle": "2023-03-22T07:46:13.745846Z",
     "shell.execute_reply": "2023-03-22T07:46:13.744988Z",
     "shell.execute_reply.started": "2023-03-22T07:46:13.740428Z"
    }
   },
   "outputs": [],
   "source": [
    "#可得每平米价格\n",
    "df_train['每平米价格'] = df_train['房屋租金'] / df_train['居住面积']"
   ]
  },
  {
   "cell_type": "code",
   "execution_count": 21,
   "id": "11701540-f76a-4320-8a4e-4e032bf36fe6",
   "metadata": {
    "execution": {
     "iopub.execute_input": "2023-03-22T07:46:43.892357Z",
     "iopub.status.busy": "2023-03-22T07:46:43.891718Z",
     "iopub.status.idle": "2023-03-22T07:46:44.734638Z",
     "shell.execute_reply": "2023-03-22T07:46:44.733752Z",
     "shell.execute_reply.started": "2023-03-22T07:46:43.892334Z"
    }
   },
   "outputs": [
    {
     "data": {
      "text/plain": [
       "<AxesSubplot:xlabel='房屋租金', ylabel='Density'>"
      ]
     },
     "execution_count": 21,
     "metadata": {},
     "output_type": "execute_result"
    },
    {
     "data": {
      "image/png": "[encoded data removed]",
      "text/plain": [
       "<Figure size 640x480 with 1 Axes>"
      ]
     },
     "metadata": {},
     "output_type": "display_data"
    }
   ],
   "source": [
    "#房屋租金的分布\n",
    "sns.distplot(df_train['房屋租金'].dropna())"
   ]
  },
  {
   "cell_type": "code",
   "execution_count": 22,
   "id": "ef1643c8-8b1f-49d7-b719-5139506925f0",
   "metadata": {
    "execution": {
     "iopub.execute_input": "2023-03-22T07:47:30.752560Z",
     "iopub.status.busy": "2023-03-22T07:47:30.752106Z",
     "iopub.status.idle": "2023-03-22T07:47:31.550491Z",
     "shell.execute_reply": "2023-03-22T07:47:31.549791Z",
     "shell.execute_reply.started": "2023-03-22T07:47:30.752539Z"
    }
   },
   "outputs": [
    {
     "data": {
      "text/plain": [
       "<AxesSubplot:xlabel='房屋租金', ylabel='Density'>"
      ]
     },
     "execution_count": 22,
     "metadata": {},
     "output_type": "execute_result"
    },
    {
     "data": {
      "image/png": "[encoded data removed]",
      "text/plain": [
       "<Figure size 640x480 with 1 Axes>"
      ]
     },
     "metadata": {},
     "output_type": "display_data"
    }
   ],
   "source": [
    "#将其取对数np.log1p\n",
    "sns.distplot(np.log1p(df_train['房屋租金'].dropna()))"
   ]
  },
  {
   "cell_type": "code",
   "execution_count": 23,
   "id": "deff9424-2e1b-4f6a-9c70-df5163f7e018",
   "metadata": {
    "execution": {
     "iopub.execute_input": "2023-03-22T07:48:25.004447Z",
     "iopub.status.busy": "2023-03-22T07:48:25.003547Z",
     "iopub.status.idle": "2023-03-22T07:48:25.011031Z",
     "shell.execute_reply": "2023-03-22T07:48:25.010174Z",
     "shell.execute_reply.started": "2023-03-22T07:48:25.004421Z"
    }
   },
   "outputs": [],
   "source": [
    "#取对数之后符合正态分布\n",
    "df_train['房屋租金'] = np.log1p(df_train['房屋租金'])"
   ]
  },
  {
   "cell_type": "code",
   "execution_count": 25,
   "id": "58a68177-e484-4268-ae5e-44cb2a08327e",
   "metadata": {
    "execution": {
     "iopub.execute_input": "2023-03-22T07:51:01.363454Z",
     "iopub.status.busy": "2023-03-22T07:51:01.362961Z",
     "iopub.status.idle": "2023-03-22T07:51:01.369731Z",
     "shell.execute_reply": "2023-03-22T07:51:01.368881Z",
     "shell.execute_reply.started": "2023-03-22T07:51:01.363433Z"
    },
    "tags": []
   },
   "outputs": [],
   "source": [
    "#平均每个房间的居住面积\n",
    "df_train['居住面积_mean'] = df_train['居住面积'] / df_train['房间数量']\n",
    "df_test['居住面积_mean'] = df_test['居住面积'] / df_test['房间数量']"
   ]
  },
  {
   "cell_type": "code",
   "execution_count": 26,
   "id": "3880edb4-09cf-4110-babc-ee7e0f4573a8",
   "metadata": {
    "execution": {
     "iopub.execute_input": "2023-03-22T07:52:20.192819Z",
     "iopub.status.busy": "2023-03-22T07:52:20.192363Z",
     "iopub.status.idle": "2023-03-22T07:52:20.982038Z",
     "shell.execute_reply": "2023-03-22T07:52:20.981292Z",
     "shell.execute_reply.started": "2023-03-22T07:52:20.192801Z"
    }
   },
   "outputs": [
    {
     "data": {
      "text/plain": [
       "<AxesSubplot:xlabel='居住面积', ylabel='Density'>"
      ]
     },
     "execution_count": 26,
     "metadata": {},
     "output_type": "execute_result"
    },
    {
     "data": {
      "image/png": "[encoded data removed]",
      "text/plain": [
       "<Figure size 640x480 with 1 Axes>"
      ]
     },
     "metadata": {},
     "output_type": "display_data"
    }
   ],
   "source": [
    "#居住面积也属于连续特征，查看分布情况\n",
    "sns.distplot(df_train['居住面积'])"
   ]
  },
  {
   "cell_type": "code",
   "execution_count": 27,
   "id": "af44499b-05c6-433a-98f5-74b96fa9e6ce",
   "metadata": {
    "execution": {
     "iopub.execute_input": "2023-03-22T07:52:44.172201Z",
     "iopub.status.busy": "2023-03-22T07:52:44.171578Z",
     "iopub.status.idle": "2023-03-22T07:52:45.096949Z",
     "shell.execute_reply": "2023-03-22T07:52:45.096221Z",
     "shell.execute_reply.started": "2023-03-22T07:52:44.172177Z"
    }
   },
   "outputs": [
    {
     "data": {
      "text/plain": [
       "<AxesSubplot:xlabel='居住面积', ylabel='Density'>"
      ]
     },
     "execution_count": 27,
     "metadata": {},
     "output_type": "execute_result"
    },
    {
     "data": {
      "image/png": "[encoded data removed]",
      "text/plain": [
       "<Figure size 640x480 with 1 Axes>"
      ]
     },
     "metadata": {},
     "output_type": "display_data"
    }
   ],
   "source": [
    "#取对数\n",
    "sns.distplot(np.log1p(df_train['居住面积']))"
   ]
  },
  {
   "cell_type": "code",
   "execution_count": 28,
   "id": "fe6d11b4-3665-430d-a990-a0ce94e7f995",
   "metadata": {
    "execution": {
     "iopub.execute_input": "2023-03-22T07:53:25.476417Z",
     "iopub.status.busy": "2023-03-22T07:53:25.475684Z",
     "iopub.status.idle": "2023-03-22T07:53:25.483258Z",
     "shell.execute_reply": "2023-03-22T07:53:25.482369Z",
     "shell.execute_reply.started": "2023-03-22T07:53:25.476393Z"
    }
   },
   "outputs": [],
   "source": [
    "df_train['居住面积'] = np.log1p(df_train['居住面积'])"
   ]
  },
  {
   "cell_type": "code",
   "execution_count": 30,
   "id": "1ea27c40-4768-449d-bb0a-965532447238",
   "metadata": {
    "execution": {
     "iopub.execute_input": "2023-03-22T07:54:32.487310Z",
     "iopub.status.busy": "2023-03-22T07:54:32.486674Z",
     "iopub.status.idle": "2023-03-22T07:54:32.491789Z",
     "shell.execute_reply": "2023-03-22T07:54:32.490979Z",
     "shell.execute_reply.started": "2023-03-22T07:54:32.487288Z"
    }
   },
   "outputs": [],
   "source": [
    "df_test['居住面积'] = np.log1p(df_test['居住面积'])"
   ]
  },
  {
   "cell_type": "code",
   "execution_count": 31,
   "id": "345d998c-af86-4691-86ce-ee43ef6c9c04",
   "metadata": {
    "execution": {
     "iopub.execute_input": "2023-03-22T07:54:35.346298Z",
     "iopub.status.busy": "2023-03-22T07:54:35.346008Z",
     "iopub.status.idle": "2023-03-22T07:54:36.135047Z",
     "shell.execute_reply": "2023-03-22T07:54:36.134240Z",
     "shell.execute_reply.started": "2023-03-22T07:54:35.346280Z"
    },
    "tags": []
   },
   "outputs": [
    {
     "data": {
      "text/plain": [
       "<AxesSubplot:xlabel='服务费', ylabel='Density'>"
      ]
     },
     "execution_count": 31,
     "metadata": {},
     "output_type": "execute_result"
    },
    {
     "data": {
      "image/png": "[encoded data removed]",
      "text/plain": [
       "<Figure size 640x480 with 1 Axes>"
      ]
     },
     "metadata": {},
     "output_type": "display_data"
    }
   ],
   "source": [
    "#连续特征服务费\n",
    "sns.distplot(df_train['服务费'])"
   ]
  },
  {
   "cell_type": "code",
   "execution_count": 32,
   "id": "bb0adc41-e335-4e60-9700-edde1783ef04",
   "metadata": {
    "execution": {
     "iopub.execute_input": "2023-03-22T07:55:45.816718Z",
     "iopub.status.busy": "2023-03-22T07:55:45.816420Z",
     "iopub.status.idle": "2023-03-22T07:55:45.824199Z",
     "shell.execute_reply": "2023-03-22T07:55:45.823426Z",
     "shell.execute_reply.started": "2023-03-22T07:55:45.816699Z"
    }
   },
   "outputs": [],
   "source": [
    "df_train['服务费'] = np.log1p(df_train['服务费'])\n",
    "df_test['服务费'] = np.log1p(df_test['服务费'])"
   ]
  },
  {
   "cell_type": "markdown",
   "id": "1c2a0b7d-6d96-4001-ac3a-7c54f360570e",
   "metadata": {},
   "source": [
    "#### 和地址有关的变量为区域1、区域2、区域3、邮政编码,分别可求出其区域内的每平米价格"
   ]
  },
  {
   "cell_type": "code",
   "execution_count": 37,
   "id": "733b660f-d7cc-42ca-9052-b648ed17efe9",
   "metadata": {
    "execution": {
     "iopub.execute_input": "2023-03-22T08:01:48.680502Z",
     "iopub.status.busy": "2023-03-22T08:01:48.679852Z",
     "iopub.status.idle": "2023-03-22T08:01:48.691303Z",
     "shell.execute_reply": "2023-03-22T08:01:48.690468Z",
     "shell.execute_reply.started": "2023-03-22T08:01:48.680480Z"
    },
    "tags": []
   },
   "outputs": [],
   "source": [
    "#区域1\n",
    "df_train['区域1_每平米价格'] = df_train['区域1'].map(df_train.groupby(['区域1'])['每平米价格'].mean())\n",
    "df_test['区域1_每平米价格'] = df_test['区域1'].map(df_train.groupby(['区域1'])['每平米价格'].mean())"
   ]
  },
  {
   "cell_type": "code",
   "execution_count": 38,
   "id": "7a822586-db65-4c2f-97f1-15b613387494",
   "metadata": {
    "execution": {
     "iopub.execute_input": "2023-03-22T08:02:22.405733Z",
     "iopub.status.busy": "2023-03-22T08:02:22.404962Z",
     "iopub.status.idle": "2023-03-22T08:02:22.416845Z",
     "shell.execute_reply": "2023-03-22T08:02:22.416050Z",
     "shell.execute_reply.started": "2023-03-22T08:02:22.405713Z"
    }
   },
   "outputs": [],
   "source": [
    "#区域2\n",
    "df_train['区域2_每平米价格'] = df_train['区域2'].map(df_train.groupby(['区域2'])['每平米价格'].mean())\n",
    "df_test['区域2_每平米价格'] = df_test['区域2'].map(df_train.groupby(['区域2'])['每平米价格'].mean())"
   ]
  },
  {
   "cell_type": "code",
   "execution_count": 39,
   "id": "bd81a8ef-2fb2-4bf1-befb-24fe26947d62",
   "metadata": {
    "execution": {
     "iopub.execute_input": "2023-03-22T08:03:03.074047Z",
     "iopub.status.busy": "2023-03-22T08:03:03.073124Z",
     "iopub.status.idle": "2023-03-22T08:03:03.087449Z",
     "shell.execute_reply": "2023-03-22T08:03:03.086602Z",
     "shell.execute_reply.started": "2023-03-22T08:03:03.074022Z"
    }
   },
   "outputs": [],
   "source": [
    "#区域3\n",
    "df_train['区域3_每平米价格'] = df_train['区域3'].map(df_train.groupby(['区域3'])['每平米价格'].mean())\n",
    "df_test['区域3_每平米价格'] = df_test['区域3'].map(df_train.groupby(['区域3'])['每平米价格'].mean())"
   ]
  },
  {
   "cell_type": "code",
   "execution_count": 40,
   "id": "2a15ddd3-4b87-4004-b47f-8c4d13fdb8d4",
   "metadata": {
    "execution": {
     "iopub.execute_input": "2023-03-22T08:06:41.853377Z",
     "iopub.status.busy": "2023-03-22T08:06:41.852858Z",
     "iopub.status.idle": "2023-03-22T08:06:41.865898Z",
     "shell.execute_reply": "2023-03-22T08:06:41.865022Z",
     "shell.execute_reply.started": "2023-03-22T08:06:41.853353Z"
    }
   },
   "outputs": [],
   "source": [
    "#邮政编码\n",
    "df_train['邮政编码_每平米价格'] = df_train['邮政编码'].map(df_train.groupby(['邮政编码'])['每平米价格'].mean())\n",
    "df_test['邮政编码_每平米价格'] = df_test['邮政编码'].map(df_train.groupby(['邮政编码'])['每平米价格'].mean())"
   ]
  },
  {
   "cell_type": "markdown",
   "id": "8fe63cb9-642d-4a20-8208-56cd9b70d65f",
   "metadata": {
    "execution": {
     "iopub.execute_input": "2023-03-22T08:11:10.811497Z",
     "iopub.status.busy": "2023-03-22T08:11:10.811017Z",
     "iopub.status.idle": "2023-03-22T08:11:10.817153Z",
     "shell.execute_reply": "2023-03-22T08:11:10.816389Z",
     "shell.execute_reply.started": "2023-03-22T08:11:10.811477Z"
    },
    "tags": []
   },
   "source": [
    "### 所处楼层"
   ]
  },
  {
   "cell_type": "code",
   "execution_count": 44,
   "id": "fbe280c3-6164-4cdc-8bd3-b085213b60a8",
   "metadata": {
    "execution": {
     "iopub.execute_input": "2023-03-22T08:14:36.280715Z",
     "iopub.status.busy": "2023-03-22T08:14:36.280160Z",
     "iopub.status.idle": "2023-03-22T08:14:36.287336Z",
     "shell.execute_reply": "2023-03-22T08:14:36.286540Z",
     "shell.execute_reply.started": "2023-03-22T08:14:36.280693Z"
    },
    "tags": []
   },
   "outputs": [],
   "source": [
    "#所处楼层的百分比\n",
    "df_train['所处楼层_div'] = df_train['所处楼层'] / (df_train['建筑楼层'] + 1)#有0层的\n",
    "df_test['所处楼层_div'] = df_test['所处楼层'] / (df_test['建筑楼层'] + 1)"
   ]
  },
  {
   "cell_type": "code",
   "execution_count": 48,
   "id": "b14f8d15-5cde-43ff-8c1c-bccd4d4a795e",
   "metadata": {
    "execution": {
     "iopub.execute_input": "2023-03-22T08:17:05.901676Z",
     "iopub.status.busy": "2023-03-22T08:17:05.901182Z",
     "iopub.status.idle": "2023-03-22T08:17:05.907734Z",
     "shell.execute_reply": "2023-03-22T08:17:05.906896Z",
     "shell.execute_reply.started": "2023-03-22T08:17:05.901657Z"
    },
    "tags": []
   },
   "outputs": [],
   "source": [
    "#是否处于顶层\n",
    "df_train['所处楼层_max'] = (df_train['所处楼层'] == df_train['建筑楼层']).astype(int)\n",
    "df_test['所处楼层_max'] = (df_test['所处楼层'] == df_test['所处楼层']).astype(int)"
   ]
  },
  {
   "cell_type": "markdown",
   "id": "49f0eb60-94ee-4661-a151-e1d2445d151b",
   "metadata": {},
   "source": [
    "### 建成年份"
   ]
  },
  {
   "cell_type": "code",
   "execution_count": 49,
   "id": "2f51c59f-53a0-4424-982a-62e2c63c055a",
   "metadata": {
    "execution": {
     "iopub.execute_input": "2023-03-22T08:19:18.127961Z",
     "iopub.status.busy": "2023-03-22T08:19:18.127363Z",
     "iopub.status.idle": "2023-03-22T08:19:18.133091Z",
     "shell.execute_reply": "2023-03-22T08:19:18.132288Z",
     "shell.execute_reply.started": "2023-03-22T08:19:18.127936Z"
    }
   },
   "outputs": [],
   "source": [
    "df_train['建成年份'] = 2022 - df_train['建成年份']\n",
    "df_test['建成年份'] = 2022 - df_test['建成年份']"
   ]
  },
  {
   "cell_type": "markdown",
   "id": "029061e9-01e9-4127-9041-dd9b1626bc73",
   "metadata": {},
   "source": [
    "### 翻新年龄"
   ]
  },
  {
   "cell_type": "code",
   "execution_count": 51,
   "id": "286352c5-2df4-4fe0-a051-1212873ca4e1",
   "metadata": {
    "execution": {
     "iopub.execute_input": "2023-03-22T08:21:28.507338Z",
     "iopub.status.busy": "2023-03-22T08:21:28.506702Z",
     "iopub.status.idle": "2023-03-22T08:21:28.512382Z",
     "shell.execute_reply": "2023-03-22T08:21:28.511589Z",
     "shell.execute_reply.started": "2023-03-22T08:21:28.507316Z"
    },
    "tags": []
   },
   "outputs": [],
   "source": [
    "df_train['翻新时长'] = 2022 - df_train['最后翻新年份']\n",
    "df_test['翻新时长'] = 2022 - df_test['最后翻新年份']"
   ]
  },
  {
   "cell_type": "markdown",
   "id": "1fa13a95-e686-4c5c-ae8a-9096e9216784",
   "metadata": {},
   "source": [
    "### 将train和test放在一起进行价格趋势的特征衍生"
   ]
  },
  {
   "cell_type": "code",
   "execution_count": 54,
   "id": "bffdd5de-a236-4730-be56-571f54df8746",
   "metadata": {
    "execution": {
     "iopub.execute_input": "2023-03-22T08:24:34.100857Z",
     "iopub.status.busy": "2023-03-22T08:24:34.100020Z",
     "iopub.status.idle": "2023-03-22T08:24:34.195499Z",
     "shell.execute_reply": "2023-03-22T08:24:34.194696Z",
     "shell.execute_reply.started": "2023-03-22T08:24:34.100831Z"
    },
    "tags": []
   },
   "outputs": [],
   "source": [
    "data = pd.concat([df_train,df_test], axis=0, ignore_index=True)"
   ]
  },
  {
   "cell_type": "code",
   "execution_count": 55,
   "id": "ba678a5b-8447-4435-91f8-8710125485d5",
   "metadata": {
    "execution": {
     "iopub.execute_input": "2023-03-22T08:27:08.272016Z",
     "iopub.status.busy": "2023-03-22T08:27:08.271210Z",
     "iopub.status.idle": "2023-03-22T08:27:08.276223Z",
     "shell.execute_reply": "2023-03-22T08:27:08.275402Z",
     "shell.execute_reply.started": "2023-03-22T08:27:08.271993Z"
    }
   },
   "outputs": [],
   "source": [
    "#地址的特征选择邮政编码、区域1、区域2、区域3、街道\n",
    "col_place = ['邮政编码','区域1','区域2','区域3','街道']"
   ]
  },
  {
   "cell_type": "code",
   "execution_count": 57,
   "id": "b8e02273-651d-41a6-bd69-86896556a225",
   "metadata": {
    "execution": {
     "iopub.execute_input": "2023-03-22T08:29:38.778366Z",
     "iopub.status.busy": "2023-03-22T08:29:38.777845Z",
     "iopub.status.idle": "2023-03-22T08:29:38.825769Z",
     "shell.execute_reply": "2023-03-22T08:29:38.825036Z",
     "shell.execute_reply.started": "2023-03-22T08:29:38.778341Z"
    },
    "tags": []
   },
   "outputs": [],
   "source": [
    "#价格趋势平均值\n",
    "for col in col_place:\n",
    "    data[col+'_价格趋势'] = data[col].map(data.groupby([col])['价格趋势'].mean())"
   ]
  },
  {
   "cell_type": "code",
   "execution_count": 58,
   "id": "28364124-ef22-444d-88c0-d348e8bd29b7",
   "metadata": {
    "execution": {
     "iopub.execute_input": "2023-03-22T08:30:11.113774Z",
     "iopub.status.busy": "2023-03-22T08:30:11.113223Z",
     "iopub.status.idle": "2023-03-22T08:30:11.167483Z",
     "shell.execute_reply": "2023-03-22T08:30:11.166821Z",
     "shell.execute_reply.started": "2023-03-22T08:30:11.113749Z"
    }
   },
   "outputs": [],
   "source": [
    "#价格趋势最大值\n",
    "for col in col_place:\n",
    "    data[col+'_价格趋势2'] = data[col].map(data.groupby([col])['价格趋势'].max())"
   ]
  },
  {
   "cell_type": "code",
   "execution_count": 59,
   "id": "54070116-a1f9-4d17-b90f-55f0d0266e7f",
   "metadata": {
    "execution": {
     "iopub.execute_input": "2023-03-22T08:30:51.643279Z",
     "iopub.status.busy": "2023-03-22T08:30:51.642696Z",
     "iopub.status.idle": "2023-03-22T08:30:51.736458Z",
     "shell.execute_reply": "2023-03-22T08:30:51.735778Z",
     "shell.execute_reply.started": "2023-03-22T08:30:51.643256Z"
    }
   },
   "outputs": [],
   "source": [
    "#价格趋势最小值\n",
    "for col in col_place:\n",
    "    data[col+'_价格趋势3'] = data[col].map(data.groupby([col])['价格趋势'].min())"
   ]
  },
  {
   "cell_type": "markdown",
   "id": "e84dfb36-8202-44b8-8e5d-218667d3c67f",
   "metadata": {},
   "source": [
    "### 将train和test放在一起进行建成年份的特征衍生"
   ]
  },
  {
   "cell_type": "code",
   "execution_count": 60,
   "id": "19d31a63-649a-47bc-8ea0-2e55ab377921",
   "metadata": {
    "execution": {
     "iopub.execute_input": "2023-03-22T08:34:37.452787Z",
     "iopub.status.busy": "2023-03-22T08:34:37.452148Z",
     "iopub.status.idle": "2023-03-22T08:34:37.517914Z",
     "shell.execute_reply": "2023-03-22T08:34:37.517271Z",
     "shell.execute_reply.started": "2023-03-22T08:34:37.452763Z"
    }
   },
   "outputs": [],
   "source": [
    "#平均值\n",
    "for col in col_place:\n",
    "    data[col+'_建成年份'] = data[col].map(data.groupby([col])['建成年份'].mean())"
   ]
  },
  {
   "cell_type": "code",
   "execution_count": 61,
   "id": "035c79a4-e5d2-47cd-a7e3-c707fceefd85",
   "metadata": {
    "execution": {
     "iopub.execute_input": "2023-03-22T08:34:57.515196Z",
     "iopub.status.busy": "2023-03-22T08:34:57.514569Z",
     "iopub.status.idle": "2023-03-22T08:34:57.576372Z",
     "shell.execute_reply": "2023-03-22T08:34:57.575664Z",
     "shell.execute_reply.started": "2023-03-22T08:34:57.515175Z"
    }
   },
   "outputs": [],
   "source": [
    "#最大值\n",
    "for col in col_place:\n",
    "    data[col+'_建成年份2'] = data[col].map(data.groupby([col])['建成年份'].max())"
   ]
  },
  {
   "cell_type": "code",
   "execution_count": 62,
   "id": "37fe6d14-4f4d-47df-9229-267d34b22420",
   "metadata": {
    "execution": {
     "iopub.execute_input": "2023-03-22T08:35:13.595027Z",
     "iopub.status.busy": "2023-03-22T08:35:13.594109Z",
     "iopub.status.idle": "2023-03-22T08:35:13.654762Z",
     "shell.execute_reply": "2023-03-22T08:35:13.653893Z",
     "shell.execute_reply.started": "2023-03-22T08:35:13.595003Z"
    }
   },
   "outputs": [],
   "source": [
    "#最小值\n",
    "for col in col_place:\n",
    "    data[col+'_建成年份3'] = data[col].map(data.groupby([col])['建成年份'].min())"
   ]
  },
  {
   "cell_type": "markdown",
   "id": "b0fedd36-6c7d-4c94-8708-de7604bab71e",
   "metadata": {},
   "source": [
    "### 建筑楼层"
   ]
  },
  {
   "cell_type": "code",
   "execution_count": 63,
   "id": "e96e0867-74c8-4acf-8bc9-466bc933854f",
   "metadata": {
    "execution": {
     "iopub.execute_input": "2023-03-22T08:40:33.139077Z",
     "iopub.status.busy": "2023-03-22T08:40:33.138548Z",
     "iopub.status.idle": "2023-03-22T08:40:33.196504Z",
     "shell.execute_reply": "2023-03-22T08:40:33.195604Z",
     "shell.execute_reply.started": "2023-03-22T08:40:33.139053Z"
    }
   },
   "outputs": [],
   "source": [
    "for col in col_place:\n",
    "    data[col + '_建筑楼层'] = data[col].map(data.groupby([col])['建筑楼层'].mean())"
   ]
  },
  {
   "cell_type": "markdown",
   "id": "0587f01e-c640-483f-8c5a-ec3830d95e5d",
   "metadata": {},
   "source": [
    "### 对于区域内的有阳台、有花园、有电梯、有厨房、是新建筑的统计"
   ]
  },
  {
   "cell_type": "code",
   "execution_count": 64,
   "id": "cb27edd3-60d9-4de7-be5a-96139afb335e",
   "metadata": {
    "execution": {
     "iopub.execute_input": "2023-03-22T08:44:15.855222Z",
     "iopub.status.busy": "2023-03-22T08:44:15.854881Z",
     "iopub.status.idle": "2023-03-22T08:44:16.113200Z",
     "shell.execute_reply": "2023-03-22T08:44:16.112485Z",
     "shell.execute_reply.started": "2023-03-22T08:44:15.855196Z"
    }
   },
   "outputs": [],
   "source": [
    "for col in col_place:\n",
    "    data[col + '_有阳台'] = data[col].map(data.groupby([col])['有阳台'].sum())\n",
    "    data[col + '_有花园'] = data[col].map(data.groupby([col])['有花园'].sum())\n",
    "    data[col + '_有电梯'] = data[col].map(data.groupby([col])['有电梯'].sum())\n",
    "    data[col + '_有厨房'] = data[col].map(data.groupby([col])['有厨房'].sum())\n",
    "    data[col + '_是新建筑'] = data[col].map(data.groupby([col])['是新建筑'].sum())"
   ]
  },
  {
   "cell_type": "code",
   "execution_count": 68,
   "id": "89bc8cc1-4ba1-4a7c-abd9-5fdd65786d74",
   "metadata": {
    "execution": {
     "iopub.execute_input": "2023-03-22T08:52:32.100714Z",
     "iopub.status.busy": "2023-03-22T08:52:32.100067Z",
     "iopub.status.idle": "2023-03-22T08:52:32.337015Z",
     "shell.execute_reply": "2023-03-22T08:52:32.336303Z",
     "shell.execute_reply.started": "2023-03-22T08:52:32.100690Z"
    },
    "tags": []
   },
   "outputs": [],
   "source": [
    "#各个地点的数量\n",
    "dict_num = dict(data['邮政编码'].value_counts())\n",
    "data['邮政编码的数量'] = np.log1p(data['邮政编码'].map(dict_num))\n",
    "dict_num = dict(data['区域1'].value_counts())\n",
    "data['区域1数量'] = np.log1p(data['邮政编码'].map(dict_num))\n",
    "dict_num = dict(data['区域2'].value_counts())\n",
    "data['区域2数量'] = np.log1p(data['区域2'].map(dict_num))\n",
    "dict_num = dict(data['区域3'].value_counts())\n",
    "data['区域3数量'] = np.log1p(data['区域3'].map(dict_num))\n",
    "dict_num = dict(data['街道'].value_counts())\n",
    "data['街道数量'] = np.log1p(data['街道'].map(dict_num))"
   ]
  },
  {
   "cell_type": "markdown",
   "id": "7b682dc4-650c-4720-ac7c-3d89ab19e33a",
   "metadata": {},
   "source": [
    "## 分离出train和test集合"
   ]
  },
  {
   "cell_type": "code",
   "execution_count": 70,
   "id": "eb8b4ef6-3fdb-4075-b49a-b3a6ca48f7aa",
   "metadata": {
    "execution": {
     "iopub.execute_input": "2023-03-22T08:55:01.766945Z",
     "iopub.status.busy": "2023-03-22T08:55:01.766402Z",
     "iopub.status.idle": "2023-03-22T08:55:01.923508Z",
     "shell.execute_reply": "2023-03-22T08:55:01.922654Z",
     "shell.execute_reply.started": "2023-03-22T08:55:01.766910Z"
    },
    "tags": []
   },
   "outputs": [],
   "source": [
    "df_train = data[data['房屋租金'].notnull()].reset_index(drop=True)\n",
    "df_test = data[data['房屋租金'].isnull()].reset_index(drop=True)"
   ]
  },
  {
   "cell_type": "code",
   "execution_count": 75,
   "id": "1b15e61c-366d-444f-88be-b20b07306d75",
   "metadata": {
    "execution": {
     "iopub.execute_input": "2023-03-22T08:56:29.128901Z",
     "iopub.status.busy": "2023-03-22T08:56:29.128387Z",
     "iopub.status.idle": "2023-03-22T08:56:29.133293Z",
     "shell.execute_reply": "2023-03-22T08:56:29.132338Z",
     "shell.execute_reply.started": "2023-03-22T08:56:29.128876Z"
    },
    "tags": []
   },
   "outputs": [],
   "source": [
    "#特征列\n",
    "features = df_train.columns.unique()\n",
    "features = features.drop(['房屋租金', 'ID','每平米价格'])"
   ]
  },
  {
   "cell_type": "code",
   "execution_count": 76,
   "id": "efb65e3e-272b-482c-bf80-e3ccab680d03",
   "metadata": {
    "execution": {
     "iopub.execute_input": "2023-03-22T08:57:03.939644Z",
     "iopub.status.busy": "2023-03-22T08:57:03.939233Z",
     "iopub.status.idle": "2023-03-22T08:57:04.012701Z",
     "shell.execute_reply": "2023-03-22T08:57:04.011950Z",
     "shell.execute_reply.started": "2023-03-22T08:57:03.939624Z"
    }
   },
   "outputs": [],
   "source": [
    "x = df_train[features]\n",
    "y = df_train['房屋租金']"
   ]
  },
  {
   "cell_type": "code",
   "execution_count": 99,
   "id": "6a3123dd-a3f4-45a1-a821-643d155a5c70",
   "metadata": {
    "execution": {
     "iopub.execute_input": "2023-03-22T09:23:32.156084Z",
     "iopub.status.busy": "2023-03-22T09:23:32.155243Z",
     "iopub.status.idle": "2023-03-22T09:23:32.163609Z",
     "shell.execute_reply": "2023-03-22T09:23:32.162671Z",
     "shell.execute_reply.started": "2023-03-22T09:23:32.156059Z"
    },
    "tags": []
   },
   "outputs": [],
   "source": [
    "#模型训练函数\n",
    "def cv_model(clf,train_x,train_y,test_x,clf_name):\n",
    "    #clf:模型的名字\n",
    "    #train_x:有标签数据的特征\n",
    "    #train_y:有标签数据的label\n",
    "    #test_y:无标签数据的特征\n",
    "    #分类器名字\n",
    "    folds = 12\n",
    "    seed = 2022\n",
    "    kf = KFold(n_splits=folds,shuffle=True,random_state=2022)\n",
    "    train = np.zeros(train_x.shape[0])\n",
    "    test = np.zeros(test_x.shape[0])\n",
    "    cv_scores = []\n",
    "    for i,(trn_index,valid_index) in enumerate(kf.split(train_x,train_y)):\n",
    "        print('----------------------------{}-----------------------------'.format(i))\n",
    "        trn_x,trn_y,val_x,val_y = train_x.iloc[trn_index],train_y.iloc[trn_index],train_x.iloc[valid_index],train_y.iloc[valid_index]\n",
    "        if clf_name == 'xgb':\n",
    "            train_matrix = clf.DMatrix(trn_x,trn_y)\n",
    "            valid_matrix = clf.DMatrix(val_x,val_y)\n",
    "            test_matrix = clf.DMatrix(test_x)\n",
    "            \n",
    "            param = {'max_depth':8,\n",
    "                     'objective':'reg:linear',\n",
    "                     'eval_metric':'mae',\n",
    "                     'learning_rate':0.1}\n",
    "            param['gpu_id'] = 0\n",
    "            param['tree_method'] = 'gpu_hist'\n",
    "            watch_list = [(train_matrix,'train'),(valid_matrix,'eval')]\n",
    "            model = clf.train(param,train_matrix,num_boost_round=8000,evals=watch_list,verbose_eval=100,early_stopping_rounds=100)\n",
    "            val_pred = model.predict(valid_matrix)\n",
    "            test_pred = model.predict(test_matrix)\n",
    "            test += test_pred\n",
    "        \n",
    "    test = test / kf.n_splits\n",
    "        \n",
    "    return test\n",
    "        \n",
    "        "
   ]
  },
  {
   "cell_type": "code",
   "execution_count": 100,
   "id": "30360a35-f3b9-4cc6-9171-7f15bd94c928",
   "metadata": {
    "execution": {
     "iopub.execute_input": "2023-03-22T09:23:33.868101Z",
     "iopub.status.busy": "2023-03-22T09:23:33.867738Z",
     "iopub.status.idle": "2023-03-22T09:23:33.872136Z",
     "shell.execute_reply": "2023-03-22T09:23:33.871249Z",
     "shell.execute_reply.started": "2023-03-22T09:23:33.868083Z"
    },
    "tags": []
   },
   "outputs": [],
   "source": [
    "def xgb_model(xtrain,ytrain,test_x):\n",
    "    xgb_test = cv_model(xgb,xtrain,ytrain,test_x,'xgb')\n",
    "    return xgb_test"
   ]
  },
  {
   "cell_type": "code",
   "execution_count": 101,
   "id": "c6646f80-ab60-43fd-905e-7cd8771ac80b",
   "metadata": {
    "execution": {
     "iopub.execute_input": "2023-03-22T09:23:35.157587Z",
     "iopub.status.busy": "2023-03-22T09:23:35.157304Z",
     "iopub.status.idle": "2023-03-22T09:48:41.548866Z",
     "shell.execute_reply": "2023-03-22T09:48:41.547625Z",
     "shell.execute_reply.started": "2023-03-22T09:23:35.157570Z"
    },
    "tags": []
   },
   "outputs": [
    {
     "name": "stdout",
     "output_type": "stream",
     "text": [
      "----------------------------0-----------------------------\n",
      "[17:23:35] WARNING: ../src/objective/regression_obj.cu:213: reg:linear is now deprecated in favor of reg:squarederror.\n",
      "[0]\ttrain-mae:5.19982\teval-mae:5.19436\n",
      "[100]\ttrain-mae:0.09827\teval-mae:0.10757\n",
      "[200]\ttrain-mae:0.08932\teval-mae:0.10423\n",
      "[300]\ttrain-mae:0.08239\teval-mae:0.10210\n",
      "[400]\ttrain-mae:0.07720\teval-mae:0.10088\n",
      "[500]\ttrain-mae:0.07205\teval-mae:0.09978\n",
      "[600]\ttrain-mae:0.06760\teval-mae:0.09905\n",
      "[700]\ttrain-mae:0.06339\teval-mae:0.09834\n",
      "[800]\ttrain-mae:0.05977\teval-mae:0.09797\n",
      "[900]\ttrain-mae:0.05649\teval-mae:0.09760\n",
      "[1000]\ttrain-mae:0.05319\teval-mae:0.09721\n",
      "[1100]\ttrain-mae:0.05024\teval-mae:0.09682\n",
      "[1200]\ttrain-mae:0.04753\teval-mae:0.09646\n",
      "[1300]\ttrain-mae:0.04499\teval-mae:0.09622\n",
      "[1400]\ttrain-mae:0.04264\teval-mae:0.09602\n",
      "[1500]\ttrain-mae:0.04043\teval-mae:0.09581\n",
      "[1600]\ttrain-mae:0.03844\teval-mae:0.09561\n",
      "[1700]\ttrain-mae:0.03660\teval-mae:0.09548\n",
      "[1800]\ttrain-mae:0.03473\teval-mae:0.09536\n",
      "[1900]\ttrain-mae:0.03298\teval-mae:0.09524\n",
      "[2000]\ttrain-mae:0.03141\teval-mae:0.09510\n",
      "[2100]\ttrain-mae:0.02984\teval-mae:0.09503\n",
      "[2200]\ttrain-mae:0.02840\teval-mae:0.09494\n",
      "[2300]\ttrain-mae:0.02711\teval-mae:0.09484\n",
      "[2400]\ttrain-mae:0.02576\teval-mae:0.09474\n",
      "[2500]\ttrain-mae:0.02468\teval-mae:0.09465\n",
      "[2600]\ttrain-mae:0.02362\teval-mae:0.09461\n",
      "[2700]\ttrain-mae:0.02267\teval-mae:0.09456\n",
      "[2800]\ttrain-mae:0.02165\teval-mae:0.09448\n",
      "[2900]\ttrain-mae:0.02066\teval-mae:0.09443\n",
      "[3000]\ttrain-mae:0.01972\teval-mae:0.09442\n",
      "[3100]\ttrain-mae:0.01890\teval-mae:0.09438\n",
      "[3200]\ttrain-mae:0.01817\teval-mae:0.09435\n",
      "[3300]\ttrain-mae:0.01735\teval-mae:0.09432\n",
      "[3400]\ttrain-mae:0.01664\teval-mae:0.09427\n",
      "[3500]\ttrain-mae:0.01598\teval-mae:0.09425\n",
      "[3600]\ttrain-mae:0.01530\teval-mae:0.09423\n",
      "[3700]\ttrain-mae:0.01472\teval-mae:0.09420\n",
      "[3800]\ttrain-mae:0.01414\teval-mae:0.09419\n",
      "[3900]\ttrain-mae:0.01361\teval-mae:0.09417\n",
      "[4000]\ttrain-mae:0.01304\teval-mae:0.09414\n",
      "[4100]\ttrain-mae:0.01253\teval-mae:0.09413\n",
      "[4200]\ttrain-mae:0.01199\teval-mae:0.09411\n",
      "[4300]\ttrain-mae:0.01155\teval-mae:0.09410\n",
      "[4400]\ttrain-mae:0.01109\teval-mae:0.09408\n",
      "[4500]\ttrain-mae:0.01067\teval-mae:0.09407\n",
      "[4600]\ttrain-mae:0.01027\teval-mae:0.09405\n",
      "[4700]\ttrain-mae:0.00987\teval-mae:0.09403\n",
      "[4800]\ttrain-mae:0.00948\teval-mae:0.09403\n",
      "[4900]\ttrain-mae:0.00913\teval-mae:0.09401\n",
      "[5000]\ttrain-mae:0.00881\teval-mae:0.09399\n",
      "[5100]\ttrain-mae:0.00849\teval-mae:0.09398\n",
      "[5200]\ttrain-mae:0.00819\teval-mae:0.09398\n",
      "[5300]\ttrain-mae:0.00788\teval-mae:0.09397\n",
      "[5400]\ttrain-mae:0.00761\teval-mae:0.09396\n",
      "[5500]\ttrain-mae:0.00734\teval-mae:0.09395\n",
      "[5600]\ttrain-mae:0.00706\teval-mae:0.09394\n",
      "[5700]\ttrain-mae:0.00682\teval-mae:0.09394\n",
      "[5800]\ttrain-mae:0.00659\teval-mae:0.09394\n",
      "[5840]\ttrain-mae:0.00648\teval-mae:0.09393\n",
      "----------------------------1-----------------------------\n",
      "[17:26:03] WARNING: ../src/objective/regression_obj.cu:213: reg:linear is now deprecated in favor of reg:squarederror.\n",
      "[0]\ttrain-mae:5.20008\teval-mae:5.19172\n",
      "[100]\ttrain-mae:0.09823\teval-mae:0.10756\n",
      "[200]\ttrain-mae:0.08874\teval-mae:0.10376\n",
      "[300]\ttrain-mae:0.08229\teval-mae:0.10181\n",
      "[400]\ttrain-mae:0.07672\teval-mae:0.10075\n",
      "[500]\ttrain-mae:0.07195\teval-mae:0.09981\n",
      "[600]\ttrain-mae:0.06759\teval-mae:0.09894\n",
      "[700]\ttrain-mae:0.06359\teval-mae:0.09850\n",
      "[800]\ttrain-mae:0.05979\teval-mae:0.09789\n",
      "[900]\ttrain-mae:0.05599\teval-mae:0.09739\n",
      "[1000]\ttrain-mae:0.05299\teval-mae:0.09701\n",
      "[1100]\ttrain-mae:0.05007\teval-mae:0.09672\n",
      "[1200]\ttrain-mae:0.04736\teval-mae:0.09641\n",
      "[1300]\ttrain-mae:0.04493\teval-mae:0.09618\n",
      "[1400]\ttrain-mae:0.04254\teval-mae:0.09593\n",
      "[1500]\ttrain-mae:0.04036\teval-mae:0.09568\n",
      "[1600]\ttrain-mae:0.03828\teval-mae:0.09550\n",
      "[1700]\ttrain-mae:0.03639\teval-mae:0.09531\n",
      "[1800]\ttrain-mae:0.03460\teval-mae:0.09513\n",
      "[1900]\ttrain-mae:0.03283\teval-mae:0.09502\n",
      "[2000]\ttrain-mae:0.03128\teval-mae:0.09490\n",
      "[2100]\ttrain-mae:0.02972\teval-mae:0.09478\n",
      "[2200]\ttrain-mae:0.02832\teval-mae:0.09468\n",
      "[2300]\ttrain-mae:0.02692\teval-mae:0.09459\n",
      "[2400]\ttrain-mae:0.02561\teval-mae:0.09452\n",
      "[2500]\ttrain-mae:0.02441\teval-mae:0.09441\n",
      "[2600]\ttrain-mae:0.02333\teval-mae:0.09438\n",
      "[2700]\ttrain-mae:0.02231\teval-mae:0.09432\n",
      "[2800]\ttrain-mae:0.02140\teval-mae:0.09428\n",
      "[2900]\ttrain-mae:0.02044\teval-mae:0.09422\n",
      "[3000]\ttrain-mae:0.01953\teval-mae:0.09419\n",
      "[3100]\ttrain-mae:0.01872\teval-mae:0.09414\n",
      "[3200]\ttrain-mae:0.01793\teval-mae:0.09410\n",
      "[3300]\ttrain-mae:0.01719\teval-mae:0.09406\n",
      "[3400]\ttrain-mae:0.01649\teval-mae:0.09402\n",
      "[3500]\ttrain-mae:0.01575\teval-mae:0.09401\n",
      "[3600]\ttrain-mae:0.01512\teval-mae:0.09400\n",
      "[3700]\ttrain-mae:0.01451\teval-mae:0.09396\n",
      "[3800]\ttrain-mae:0.01395\teval-mae:0.09395\n",
      "[3900]\ttrain-mae:0.01339\teval-mae:0.09392\n",
      "[4000]\ttrain-mae:0.01284\teval-mae:0.09390\n",
      "[4100]\ttrain-mae:0.01232\teval-mae:0.09389\n",
      "[4200]\ttrain-mae:0.01183\teval-mae:0.09387\n",
      "[4300]\ttrain-mae:0.01139\teval-mae:0.09386\n",
      "[4400]\ttrain-mae:0.01093\teval-mae:0.09385\n",
      "[4500]\ttrain-mae:0.01053\teval-mae:0.09385\n",
      "[4600]\ttrain-mae:0.01014\teval-mae:0.09383\n",
      "[4700]\ttrain-mae:0.00974\teval-mae:0.09382\n",
      "[4800]\ttrain-mae:0.00938\teval-mae:0.09380\n",
      "[4900]\ttrain-mae:0.00902\teval-mae:0.09379\n",
      "[5000]\ttrain-mae:0.00871\teval-mae:0.09377\n",
      "[5100]\ttrain-mae:0.00837\teval-mae:0.09377\n",
      "[5145]\ttrain-mae:0.00824\teval-mae:0.09377\n",
      "----------------------------2-----------------------------\n",
      "[17:28:11] WARNING: ../src/objective/regression_obj.cu:213: reg:linear is now deprecated in favor of reg:squarederror.\n",
      "[0]\ttrain-mae:5.19889\teval-mae:5.20487\n",
      "[100]\ttrain-mae:0.09856\teval-mae:0.10705\n",
      "[200]\ttrain-mae:0.08947\teval-mae:0.10365\n",
      "[300]\ttrain-mae:0.08284\teval-mae:0.10185\n",
      "[400]\ttrain-mae:0.07702\teval-mae:0.10059\n",
      "[500]\ttrain-mae:0.07209\teval-mae:0.09976\n",
      "[600]\ttrain-mae:0.06764\teval-mae:0.09896\n",
      "[700]\ttrain-mae:0.06361\teval-mae:0.09841\n",
      "[800]\ttrain-mae:0.05984\teval-mae:0.09791\n",
      "[900]\ttrain-mae:0.05647\teval-mae:0.09746\n",
      "[1000]\ttrain-mae:0.05349\teval-mae:0.09707\n",
      "[1100]\ttrain-mae:0.05047\teval-mae:0.09666\n",
      "[1200]\ttrain-mae:0.04780\teval-mae:0.09630\n",
      "[1300]\ttrain-mae:0.04529\teval-mae:0.09606\n",
      "[1400]\ttrain-mae:0.04303\teval-mae:0.09590\n",
      "[1500]\ttrain-mae:0.04087\teval-mae:0.09568\n",
      "[1600]\ttrain-mae:0.03882\teval-mae:0.09555\n",
      "[1700]\ttrain-mae:0.03684\teval-mae:0.09536\n",
      "[1800]\ttrain-mae:0.03498\teval-mae:0.09523\n",
      "[1900]\ttrain-mae:0.03327\teval-mae:0.09511\n",
      "[2000]\ttrain-mae:0.03165\teval-mae:0.09497\n",
      "[2100]\ttrain-mae:0.03006\teval-mae:0.09490\n",
      "[2200]\ttrain-mae:0.02862\teval-mae:0.09480\n",
      "[2300]\ttrain-mae:0.02733\teval-mae:0.09473\n",
      "[2400]\ttrain-mae:0.02615\teval-mae:0.09470\n",
      "[2500]\ttrain-mae:0.02498\teval-mae:0.09464\n",
      "[2600]\ttrain-mae:0.02386\teval-mae:0.09457\n",
      "[2700]\ttrain-mae:0.02277\teval-mae:0.09449\n",
      "[2800]\ttrain-mae:0.02179\teval-mae:0.09445\n",
      "[2900]\ttrain-mae:0.02085\teval-mae:0.09442\n",
      "[3000]\ttrain-mae:0.01991\teval-mae:0.09437\n",
      "[3100]\ttrain-mae:0.01913\teval-mae:0.09431\n",
      "[3200]\ttrain-mae:0.01836\teval-mae:0.09427\n",
      "[3300]\ttrain-mae:0.01752\teval-mae:0.09425\n",
      "[3400]\ttrain-mae:0.01682\teval-mae:0.09423\n",
      "[3420]\ttrain-mae:0.01667\teval-mae:0.09423\n",
      "----------------------------3-----------------------------\n",
      "[17:29:36] WARNING: ../src/objective/regression_obj.cu:213: reg:linear is now deprecated in favor of reg:squarederror.\n",
      "[0]\ttrain-mae:5.19894\teval-mae:5.20432\n",
      "[100]\ttrain-mae:0.09835\teval-mae:0.10619\n",
      "[200]\ttrain-mae:0.08947\teval-mae:0.10276\n",
      "[300]\ttrain-mae:0.08243\teval-mae:0.10087\n",
      "[400]\ttrain-mae:0.07691\teval-mae:0.09965\n",
      "[500]\ttrain-mae:0.07228\teval-mae:0.09866\n",
      "[600]\ttrain-mae:0.06762\teval-mae:0.09782\n",
      "[700]\ttrain-mae:0.06355\teval-mae:0.09725\n",
      "[800]\ttrain-mae:0.06013\teval-mae:0.09681\n",
      "[900]\ttrain-mae:0.05670\teval-mae:0.09635\n",
      "[1000]\ttrain-mae:0.05357\teval-mae:0.09589\n",
      "[1100]\ttrain-mae:0.05060\teval-mae:0.09549\n",
      "[1200]\ttrain-mae:0.04772\teval-mae:0.09515\n",
      "[1300]\ttrain-mae:0.04509\teval-mae:0.09485\n",
      "[1400]\ttrain-mae:0.04276\teval-mae:0.09464\n",
      "[1500]\ttrain-mae:0.04060\teval-mae:0.09436\n",
      "[1600]\ttrain-mae:0.03840\teval-mae:0.09418\n",
      "[1700]\ttrain-mae:0.03644\teval-mae:0.09402\n",
      "[1800]\ttrain-mae:0.03469\teval-mae:0.09391\n",
      "[1900]\ttrain-mae:0.03305\teval-mae:0.09375\n",
      "[2000]\ttrain-mae:0.03143\teval-mae:0.09360\n",
      "[2100]\ttrain-mae:0.03000\teval-mae:0.09349\n",
      "[2200]\ttrain-mae:0.02854\teval-mae:0.09342\n",
      "[2300]\ttrain-mae:0.02721\teval-mae:0.09338\n",
      "[2400]\ttrain-mae:0.02591\teval-mae:0.09327\n",
      "[2500]\ttrain-mae:0.02477\teval-mae:0.09319\n",
      "[2600]\ttrain-mae:0.02368\teval-mae:0.09313\n",
      "[2700]\ttrain-mae:0.02259\teval-mae:0.09307\n",
      "[2800]\ttrain-mae:0.02160\teval-mae:0.09303\n",
      "[2900]\ttrain-mae:0.02070\teval-mae:0.09297\n",
      "[3000]\ttrain-mae:0.01981\teval-mae:0.09293\n",
      "[3100]\ttrain-mae:0.01902\teval-mae:0.09289\n",
      "[3200]\ttrain-mae:0.01818\teval-mae:0.09284\n",
      "[3300]\ttrain-mae:0.01739\teval-mae:0.09282\n",
      "[3400]\ttrain-mae:0.01663\teval-mae:0.09277\n",
      "[3500]\ttrain-mae:0.01595\teval-mae:0.09276\n",
      "[3600]\ttrain-mae:0.01529\teval-mae:0.09275\n",
      "[3700]\ttrain-mae:0.01474\teval-mae:0.09273\n",
      "[3800]\ttrain-mae:0.01414\teval-mae:0.09270\n",
      "[3900]\ttrain-mae:0.01357\teval-mae:0.09265\n",
      "[4000]\ttrain-mae:0.01305\teval-mae:0.09264\n",
      "[4100]\ttrain-mae:0.01253\teval-mae:0.09262\n",
      "[4200]\ttrain-mae:0.01202\teval-mae:0.09260\n",
      "[4300]\ttrain-mae:0.01156\teval-mae:0.09258\n",
      "[4400]\ttrain-mae:0.01110\teval-mae:0.09255\n",
      "[4500]\ttrain-mae:0.01068\teval-mae:0.09253\n",
      "[4600]\ttrain-mae:0.01024\teval-mae:0.09250\n",
      "[4700]\ttrain-mae:0.00987\teval-mae:0.09249\n",
      "[4800]\ttrain-mae:0.00950\teval-mae:0.09247\n",
      "[4900]\ttrain-mae:0.00914\teval-mae:0.09246\n",
      "[5000]\ttrain-mae:0.00881\teval-mae:0.09245\n",
      "[5100]\ttrain-mae:0.00851\teval-mae:0.09244\n",
      "[5200]\ttrain-mae:0.00817\teval-mae:0.09244\n",
      "[5212]\ttrain-mae:0.00813\teval-mae:0.09244\n",
      "----------------------------4-----------------------------\n",
      "[17:31:46] WARNING: ../src/objective/regression_obj.cu:213: reg:linear is now deprecated in favor of reg:squarederror.\n",
      "[0]\ttrain-mae:5.19997\teval-mae:5.19269\n",
      "[100]\ttrain-mae:0.09841\teval-mae:0.10742\n",
      "[200]\ttrain-mae:0.08887\teval-mae:0.10344\n",
      "[300]\ttrain-mae:0.08224\teval-mae:0.10154\n",
      "[400]\ttrain-mae:0.07676\teval-mae:0.10032\n",
      "[500]\ttrain-mae:0.07224\teval-mae:0.09952\n",
      "[600]\ttrain-mae:0.06762\teval-mae:0.09871\n",
      "[700]\ttrain-mae:0.06341\teval-mae:0.09808\n",
      "[800]\ttrain-mae:0.05991\teval-mae:0.09766\n",
      "[900]\ttrain-mae:0.05652\teval-mae:0.09724\n",
      "[1000]\ttrain-mae:0.05333\teval-mae:0.09681\n",
      "[1100]\ttrain-mae:0.05023\teval-mae:0.09641\n",
      "[1200]\ttrain-mae:0.04753\teval-mae:0.09614\n",
      "[1300]\ttrain-mae:0.04508\teval-mae:0.09586\n",
      "[1400]\ttrain-mae:0.04283\teval-mae:0.09565\n",
      "[1500]\ttrain-mae:0.04064\teval-mae:0.09543\n",
      "[1600]\ttrain-mae:0.03846\teval-mae:0.09531\n",
      "[1700]\ttrain-mae:0.03659\teval-mae:0.09516\n",
      "[1800]\ttrain-mae:0.03484\teval-mae:0.09503\n",
      "[1900]\ttrain-mae:0.03305\teval-mae:0.09493\n",
      "[2000]\ttrain-mae:0.03132\teval-mae:0.09481\n",
      "[2100]\ttrain-mae:0.02978\teval-mae:0.09473\n",
      "[2200]\ttrain-mae:0.02848\teval-mae:0.09461\n",
      "[2300]\ttrain-mae:0.02719\teval-mae:0.09454\n",
      "[2400]\ttrain-mae:0.02594\teval-mae:0.09446\n",
      "[2500]\ttrain-mae:0.02473\teval-mae:0.09439\n",
      "[2600]\ttrain-mae:0.02366\teval-mae:0.09434\n",
      "[2700]\ttrain-mae:0.02261\teval-mae:0.09426\n",
      "[2800]\ttrain-mae:0.02163\teval-mae:0.09421\n",
      "[2900]\ttrain-mae:0.02074\teval-mae:0.09419\n",
      "[3000]\ttrain-mae:0.01981\teval-mae:0.09414\n",
      "[3100]\ttrain-mae:0.01894\teval-mae:0.09409\n",
      "[3200]\ttrain-mae:0.01813\teval-mae:0.09402\n",
      "[3300]\ttrain-mae:0.01736\teval-mae:0.09397\n",
      "[3400]\ttrain-mae:0.01667\teval-mae:0.09394\n",
      "[3500]\ttrain-mae:0.01598\teval-mae:0.09393\n",
      "[3600]\ttrain-mae:0.01531\teval-mae:0.09390\n",
      "[3700]\ttrain-mae:0.01470\teval-mae:0.09387\n",
      "[3800]\ttrain-mae:0.01412\teval-mae:0.09386\n",
      "[3900]\ttrain-mae:0.01353\teval-mae:0.09383\n",
      "[4000]\ttrain-mae:0.01295\teval-mae:0.09380\n",
      "[4100]\ttrain-mae:0.01243\teval-mae:0.09379\n",
      "[4200]\ttrain-mae:0.01201\teval-mae:0.09376\n",
      "[4300]\ttrain-mae:0.01151\teval-mae:0.09375\n",
      "[4400]\ttrain-mae:0.01108\teval-mae:0.09374\n",
      "[4500]\ttrain-mae:0.01064\teval-mae:0.09372\n",
      "[4600]\ttrain-mae:0.01025\teval-mae:0.09371\n",
      "[4700]\ttrain-mae:0.00989\teval-mae:0.09371\n",
      "[4800]\ttrain-mae:0.00951\teval-mae:0.09370\n",
      "[4900]\ttrain-mae:0.00916\teval-mae:0.09369\n",
      "[5000]\ttrain-mae:0.00879\teval-mae:0.09368\n",
      "[5100]\ttrain-mae:0.00846\teval-mae:0.09367\n",
      "[5200]\ttrain-mae:0.00818\teval-mae:0.09365\n",
      "[5300]\ttrain-mae:0.00788\teval-mae:0.09365\n",
      "[5400]\ttrain-mae:0.00761\teval-mae:0.09365\n",
      "[5500]\ttrain-mae:0.00733\teval-mae:0.09364\n",
      "[5600]\ttrain-mae:0.00707\teval-mae:0.09363\n",
      "[5700]\ttrain-mae:0.00684\teval-mae:0.09362\n",
      "[5800]\ttrain-mae:0.00661\teval-mae:0.09362\n",
      "[5900]\ttrain-mae:0.00637\teval-mae:0.09361\n",
      "[6000]\ttrain-mae:0.00613\teval-mae:0.09360\n",
      "[6100]\ttrain-mae:0.00593\teval-mae:0.09359\n",
      "[6200]\ttrain-mae:0.00573\teval-mae:0.09358\n",
      "[6300]\ttrain-mae:0.00553\teval-mae:0.09358\n",
      "[6400]\ttrain-mae:0.00535\teval-mae:0.09358\n",
      "[6500]\ttrain-mae:0.00517\teval-mae:0.09357\n",
      "[6600]\ttrain-mae:0.00500\teval-mae:0.09357\n",
      "[6613]\ttrain-mae:0.00498\teval-mae:0.09357\n",
      "----------------------------5-----------------------------\n",
      "[17:34:33] WARNING: ../src/objective/regression_obj.cu:213: reg:linear is now deprecated in favor of reg:squarederror.\n",
      "[0]\ttrain-mae:5.19918\teval-mae:5.20141\n",
      "[100]\ttrain-mae:0.09823\teval-mae:0.10868\n",
      "[200]\ttrain-mae:0.08891\teval-mae:0.10525\n",
      "[300]\ttrain-mae:0.08256\teval-mae:0.10349\n",
      "[400]\ttrain-mae:0.07672\teval-mae:0.10213\n",
      "[500]\ttrain-mae:0.07192\teval-mae:0.10112\n",
      "[600]\ttrain-mae:0.06733\teval-mae:0.10033\n",
      "[700]\ttrain-mae:0.06346\teval-mae:0.09980\n",
      "[800]\ttrain-mae:0.05967\teval-mae:0.09924\n",
      "[900]\ttrain-mae:0.05605\teval-mae:0.09876\n",
      "[1000]\ttrain-mae:0.05294\teval-mae:0.09826\n",
      "[1100]\ttrain-mae:0.04986\teval-mae:0.09796\n",
      "[1200]\ttrain-mae:0.04739\teval-mae:0.09770\n",
      "[1300]\ttrain-mae:0.04490\teval-mae:0.09744\n",
      "[1400]\ttrain-mae:0.04254\teval-mae:0.09717\n",
      "[1500]\ttrain-mae:0.04048\teval-mae:0.09694\n",
      "[1600]\ttrain-mae:0.03837\teval-mae:0.09678\n",
      "[1700]\ttrain-mae:0.03657\teval-mae:0.09660\n",
      "[1800]\ttrain-mae:0.03466\teval-mae:0.09642\n",
      "[1900]\ttrain-mae:0.03301\teval-mae:0.09633\n",
      "[2000]\ttrain-mae:0.03138\teval-mae:0.09619\n",
      "[2100]\ttrain-mae:0.02984\teval-mae:0.09609\n",
      "[2200]\ttrain-mae:0.02847\teval-mae:0.09600\n",
      "[2300]\ttrain-mae:0.02713\teval-mae:0.09589\n",
      "[2400]\ttrain-mae:0.02586\teval-mae:0.09580\n",
      "[2500]\ttrain-mae:0.02471\teval-mae:0.09572\n",
      "[2600]\ttrain-mae:0.02363\teval-mae:0.09560\n",
      "[2700]\ttrain-mae:0.02264\teval-mae:0.09554\n",
      "[2800]\ttrain-mae:0.02163\teval-mae:0.09548\n",
      "[2900]\ttrain-mae:0.02079\teval-mae:0.09541\n",
      "[3000]\ttrain-mae:0.01983\teval-mae:0.09533\n",
      "[3100]\ttrain-mae:0.01900\teval-mae:0.09530\n",
      "[3200]\ttrain-mae:0.01821\teval-mae:0.09526\n",
      "[3300]\ttrain-mae:0.01749\teval-mae:0.09525\n",
      "[3400]\ttrain-mae:0.01678\teval-mae:0.09523\n",
      "[3500]\ttrain-mae:0.01607\teval-mae:0.09519\n",
      "[3600]\ttrain-mae:0.01543\teval-mae:0.09515\n",
      "[3700]\ttrain-mae:0.01482\teval-mae:0.09513\n",
      "[3800]\ttrain-mae:0.01421\teval-mae:0.09509\n",
      "[3900]\ttrain-mae:0.01362\teval-mae:0.09505\n",
      "[4000]\ttrain-mae:0.01306\teval-mae:0.09505\n",
      "[4100]\ttrain-mae:0.01254\teval-mae:0.09503\n",
      "[4200]\ttrain-mae:0.01203\teval-mae:0.09500\n",
      "[4300]\ttrain-mae:0.01158\teval-mae:0.09498\n",
      "[4400]\ttrain-mae:0.01112\teval-mae:0.09497\n",
      "[4500]\ttrain-mae:0.01071\teval-mae:0.09496\n",
      "[4600]\ttrain-mae:0.01032\teval-mae:0.09495\n",
      "[4700]\ttrain-mae:0.00992\teval-mae:0.09493\n",
      "[4800]\ttrain-mae:0.00955\teval-mae:0.09492\n",
      "[4900]\ttrain-mae:0.00919\teval-mae:0.09490\n",
      "[5000]\ttrain-mae:0.00888\teval-mae:0.09491\n",
      "[5100]\ttrain-mae:0.00855\teval-mae:0.09490\n",
      "[5200]\ttrain-mae:0.00826\teval-mae:0.09489\n",
      "[5300]\ttrain-mae:0.00795\teval-mae:0.09487\n",
      "[5400]\ttrain-mae:0.00765\teval-mae:0.09486\n",
      "[5500]\ttrain-mae:0.00738\teval-mae:0.09485\n",
      "[5600]\ttrain-mae:0.00712\teval-mae:0.09485\n",
      "[5700]\ttrain-mae:0.00687\teval-mae:0.09484\n",
      "[5778]\ttrain-mae:0.00668\teval-mae:0.09484\n",
      "----------------------------6-----------------------------\n",
      "[17:36:59] WARNING: ../src/objective/regression_obj.cu:213: reg:linear is now deprecated in favor of reg:squarederror.\n",
      "[0]\ttrain-mae:5.19942\teval-mae:5.19900\n",
      "[100]\ttrain-mae:0.09862\teval-mae:0.10712\n",
      "[200]\ttrain-mae:0.08942\teval-mae:0.10380\n",
      "[300]\ttrain-mae:0.08296\teval-mae:0.10196\n",
      "[400]\ttrain-mae:0.07774\teval-mae:0.10068\n",
      "[500]\ttrain-mae:0.07233\teval-mae:0.09958\n",
      "[600]\ttrain-mae:0.06780\teval-mae:0.09887\n",
      "[700]\ttrain-mae:0.06352\teval-mae:0.09818\n",
      "[800]\ttrain-mae:0.05984\teval-mae:0.09761\n",
      "[900]\ttrain-mae:0.05643\teval-mae:0.09720\n",
      "[1000]\ttrain-mae:0.05322\teval-mae:0.09681\n",
      "[1100]\ttrain-mae:0.05046\teval-mae:0.09643\n",
      "[1200]\ttrain-mae:0.04771\teval-mae:0.09613\n",
      "[1300]\ttrain-mae:0.04516\teval-mae:0.09586\n",
      "[1400]\ttrain-mae:0.04267\teval-mae:0.09559\n",
      "[1500]\ttrain-mae:0.04066\teval-mae:0.09538\n",
      "[1600]\ttrain-mae:0.03863\teval-mae:0.09519\n",
      "[1700]\ttrain-mae:0.03662\teval-mae:0.09503\n",
      "[1800]\ttrain-mae:0.03475\teval-mae:0.09492\n",
      "[1900]\ttrain-mae:0.03305\teval-mae:0.09477\n",
      "[2000]\ttrain-mae:0.03138\teval-mae:0.09472\n",
      "[2100]\ttrain-mae:0.03004\teval-mae:0.09463\n",
      "[2200]\ttrain-mae:0.02864\teval-mae:0.09453\n",
      "[2300]\ttrain-mae:0.02730\teval-mae:0.09441\n",
      "[2400]\ttrain-mae:0.02609\teval-mae:0.09432\n",
      "[2500]\ttrain-mae:0.02495\teval-mae:0.09429\n",
      "[2600]\ttrain-mae:0.02374\teval-mae:0.09424\n",
      "[2700]\ttrain-mae:0.02270\teval-mae:0.09419\n",
      "[2800]\ttrain-mae:0.02170\teval-mae:0.09413\n",
      "[2900]\ttrain-mae:0.02075\teval-mae:0.09405\n",
      "[3000]\ttrain-mae:0.01981\teval-mae:0.09399\n",
      "[3100]\ttrain-mae:0.01895\teval-mae:0.09397\n",
      "[3200]\ttrain-mae:0.01814\teval-mae:0.09393\n",
      "[3300]\ttrain-mae:0.01735\teval-mae:0.09390\n",
      "[3400]\ttrain-mae:0.01658\teval-mae:0.09389\n",
      "[3500]\ttrain-mae:0.01589\teval-mae:0.09387\n",
      "[3600]\ttrain-mae:0.01520\teval-mae:0.09384\n",
      "[3700]\ttrain-mae:0.01456\teval-mae:0.09382\n",
      "[3800]\ttrain-mae:0.01394\teval-mae:0.09380\n",
      "[3900]\ttrain-mae:0.01338\teval-mae:0.09379\n",
      "[4000]\ttrain-mae:0.01285\teval-mae:0.09377\n",
      "[4100]\ttrain-mae:0.01236\teval-mae:0.09375\n",
      "[4200]\ttrain-mae:0.01194\teval-mae:0.09374\n",
      "[4300]\ttrain-mae:0.01149\teval-mae:0.09374\n",
      "[4400]\ttrain-mae:0.01104\teval-mae:0.09372\n",
      "[4500]\ttrain-mae:0.01061\teval-mae:0.09370\n",
      "[4600]\ttrain-mae:0.01021\teval-mae:0.09369\n",
      "[4700]\ttrain-mae:0.00982\teval-mae:0.09369\n",
      "[4726]\ttrain-mae:0.00972\teval-mae:0.09369\n",
      "----------------------------7-----------------------------\n",
      "[17:38:56] WARNING: ../src/objective/regression_obj.cu:213: reg:linear is now deprecated in favor of reg:squarederror.\n",
      "[0]\ttrain-mae:5.19943\teval-mae:5.19867\n",
      "[100]\ttrain-mae:0.09847\teval-mae:0.10813\n",
      "[200]\ttrain-mae:0.08932\teval-mae:0.10467\n",
      "[300]\ttrain-mae:0.08258\teval-mae:0.10279\n",
      "[400]\ttrain-mae:0.07668\teval-mae:0.10152\n",
      "[500]\ttrain-mae:0.07185\teval-mae:0.10072\n",
      "[600]\ttrain-mae:0.06717\teval-mae:0.09989\n",
      "[700]\ttrain-mae:0.06318\teval-mae:0.09933\n",
      "[800]\ttrain-mae:0.05935\teval-mae:0.09887\n",
      "[900]\ttrain-mae:0.05593\teval-mae:0.09853\n",
      "[1000]\ttrain-mae:0.05276\teval-mae:0.09817\n",
      "[1100]\ttrain-mae:0.04984\teval-mae:0.09783\n",
      "[1200]\ttrain-mae:0.04711\teval-mae:0.09749\n",
      "[1300]\ttrain-mae:0.04465\teval-mae:0.09724\n",
      "[1400]\ttrain-mae:0.04227\teval-mae:0.09700\n",
      "[1500]\ttrain-mae:0.04010\teval-mae:0.09681\n",
      "[1600]\ttrain-mae:0.03807\teval-mae:0.09663\n",
      "[1700]\ttrain-mae:0.03618\teval-mae:0.09653\n",
      "[1800]\ttrain-mae:0.03444\teval-mae:0.09640\n",
      "[1900]\ttrain-mae:0.03278\teval-mae:0.09626\n",
      "[2000]\ttrain-mae:0.03114\teval-mae:0.09611\n",
      "[2100]\ttrain-mae:0.02971\teval-mae:0.09602\n",
      "[2200]\ttrain-mae:0.02833\teval-mae:0.09591\n",
      "[2300]\ttrain-mae:0.02699\teval-mae:0.09582\n",
      "[2400]\ttrain-mae:0.02564\teval-mae:0.09575\n",
      "[2500]\ttrain-mae:0.02450\teval-mae:0.09569\n",
      "[2600]\ttrain-mae:0.02346\teval-mae:0.09563\n",
      "[2700]\ttrain-mae:0.02237\teval-mae:0.09555\n",
      "[2800]\ttrain-mae:0.02135\teval-mae:0.09553\n",
      "[2900]\ttrain-mae:0.02041\teval-mae:0.09549\n",
      "[3000]\ttrain-mae:0.01952\teval-mae:0.09546\n",
      "[3100]\ttrain-mae:0.01869\teval-mae:0.09541\n",
      "[3200]\ttrain-mae:0.01786\teval-mae:0.09538\n",
      "[3300]\ttrain-mae:0.01713\teval-mae:0.09535\n",
      "[3400]\ttrain-mae:0.01637\teval-mae:0.09530\n",
      "[3500]\ttrain-mae:0.01573\teval-mae:0.09528\n",
      "[3600]\ttrain-mae:0.01505\teval-mae:0.09523\n",
      "[3700]\ttrain-mae:0.01446\teval-mae:0.09522\n",
      "[3800]\ttrain-mae:0.01387\teval-mae:0.09520\n",
      "[3900]\ttrain-mae:0.01330\teval-mae:0.09519\n",
      "[4000]\ttrain-mae:0.01277\teval-mae:0.09517\n",
      "[4100]\ttrain-mae:0.01224\teval-mae:0.09515\n",
      "[4200]\ttrain-mae:0.01175\teval-mae:0.09514\n",
      "[4300]\ttrain-mae:0.01130\teval-mae:0.09512\n",
      "[4400]\ttrain-mae:0.01088\teval-mae:0.09511\n",
      "[4500]\ttrain-mae:0.01046\teval-mae:0.09510\n",
      "[4600]\ttrain-mae:0.01006\teval-mae:0.09509\n",
      "[4609]\ttrain-mae:0.01002\teval-mae:0.09509\n",
      "----------------------------8-----------------------------\n",
      "[17:40:53] WARNING: ../src/objective/regression_obj.cu:213: reg:linear is now deprecated in favor of reg:squarederror.\n",
      "[0]\ttrain-mae:5.19874\teval-mae:5.20651\n",
      "[100]\ttrain-mae:0.09877\teval-mae:0.10736\n",
      "[200]\ttrain-mae:0.08920\teval-mae:0.10378\n",
      "[300]\ttrain-mae:0.08269\teval-mae:0.10211\n",
      "[400]\ttrain-mae:0.07728\teval-mae:0.10106\n",
      "[500]\ttrain-mae:0.07232\teval-mae:0.10012\n",
      "[600]\ttrain-mae:0.06736\teval-mae:0.09922\n",
      "[700]\ttrain-mae:0.06342\teval-mae:0.09858\n",
      "[800]\ttrain-mae:0.05994\teval-mae:0.09809\n",
      "[900]\ttrain-mae:0.05645\teval-mae:0.09766\n",
      "[1000]\ttrain-mae:0.05297\teval-mae:0.09724\n",
      "[1100]\ttrain-mae:0.05009\teval-mae:0.09691\n",
      "[1200]\ttrain-mae:0.04713\teval-mae:0.09667\n",
      "[1300]\ttrain-mae:0.04467\teval-mae:0.09636\n",
      "[1400]\ttrain-mae:0.04239\teval-mae:0.09615\n",
      "[1500]\ttrain-mae:0.04022\teval-mae:0.09596\n",
      "[1600]\ttrain-mae:0.03829\teval-mae:0.09581\n",
      "[1700]\ttrain-mae:0.03644\teval-mae:0.09565\n",
      "[1800]\ttrain-mae:0.03465\teval-mae:0.09551\n",
      "[1900]\ttrain-mae:0.03290\teval-mae:0.09539\n",
      "[2000]\ttrain-mae:0.03135\teval-mae:0.09530\n",
      "[2100]\ttrain-mae:0.02982\teval-mae:0.09524\n",
      "[2200]\ttrain-mae:0.02837\teval-mae:0.09516\n",
      "[2300]\ttrain-mae:0.02697\teval-mae:0.09509\n",
      "[2400]\ttrain-mae:0.02569\teval-mae:0.09502\n",
      "[2500]\ttrain-mae:0.02465\teval-mae:0.09497\n",
      "[2600]\ttrain-mae:0.02352\teval-mae:0.09490\n",
      "[2700]\ttrain-mae:0.02246\teval-mae:0.09484\n",
      "[2800]\ttrain-mae:0.02146\teval-mae:0.09477\n",
      "[2900]\ttrain-mae:0.02057\teval-mae:0.09471\n",
      "[3000]\ttrain-mae:0.01968\teval-mae:0.09470\n",
      "[3100]\ttrain-mae:0.01883\teval-mae:0.09465\n",
      "[3200]\ttrain-mae:0.01800\teval-mae:0.09460\n",
      "[3300]\ttrain-mae:0.01728\teval-mae:0.09458\n",
      "[3400]\ttrain-mae:0.01658\teval-mae:0.09453\n",
      "[3500]\ttrain-mae:0.01595\teval-mae:0.09451\n",
      "[3600]\ttrain-mae:0.01529\teval-mae:0.09448\n",
      "[3700]\ttrain-mae:0.01470\teval-mae:0.09445\n",
      "[3800]\ttrain-mae:0.01410\teval-mae:0.09444\n",
      "[3900]\ttrain-mae:0.01347\teval-mae:0.09443\n",
      "[4000]\ttrain-mae:0.01294\teval-mae:0.09442\n",
      "[4100]\ttrain-mae:0.01242\teval-mae:0.09439\n",
      "[4200]\ttrain-mae:0.01190\teval-mae:0.09438\n",
      "[4300]\ttrain-mae:0.01145\teval-mae:0.09438\n",
      "[4400]\ttrain-mae:0.01099\teval-mae:0.09435\n",
      "[4500]\ttrain-mae:0.01057\teval-mae:0.09432\n",
      "[4600]\ttrain-mae:0.01018\teval-mae:0.09432\n",
      "[4666]\ttrain-mae:0.00994\teval-mae:0.09433\n",
      "----------------------------9-----------------------------\n",
      "[17:42:51] WARNING: ../src/objective/regression_obj.cu:213: reg:linear is now deprecated in favor of reg:squarederror.\n",
      "[0]\ttrain-mae:5.19932\teval-mae:5.19999\n",
      "[100]\ttrain-mae:0.09831\teval-mae:0.10742\n",
      "[200]\ttrain-mae:0.08925\teval-mae:0.10375\n",
      "[300]\ttrain-mae:0.08257\teval-mae:0.10168\n",
      "[400]\ttrain-mae:0.07699\teval-mae:0.10041\n",
      "[500]\ttrain-mae:0.07170\teval-mae:0.09936\n",
      "[600]\ttrain-mae:0.06759\teval-mae:0.09866\n",
      "[700]\ttrain-mae:0.06347\teval-mae:0.09804\n",
      "[800]\ttrain-mae:0.05970\teval-mae:0.09751\n",
      "[900]\ttrain-mae:0.05627\teval-mae:0.09695\n",
      "[1000]\ttrain-mae:0.05306\teval-mae:0.09662\n",
      "[1100]\ttrain-mae:0.05012\teval-mae:0.09635\n",
      "[1200]\ttrain-mae:0.04754\teval-mae:0.09608\n",
      "[1300]\ttrain-mae:0.04486\teval-mae:0.09586\n",
      "[1400]\ttrain-mae:0.04240\teval-mae:0.09566\n",
      "[1500]\ttrain-mae:0.04007\teval-mae:0.09543\n",
      "[1600]\ttrain-mae:0.03796\teval-mae:0.09525\n",
      "[1700]\ttrain-mae:0.03609\teval-mae:0.09511\n",
      "[1800]\ttrain-mae:0.03427\teval-mae:0.09496\n",
      "[1900]\ttrain-mae:0.03263\teval-mae:0.09485\n",
      "[2000]\ttrain-mae:0.03111\teval-mae:0.09471\n",
      "[2100]\ttrain-mae:0.02965\teval-mae:0.09465\n",
      "[2200]\ttrain-mae:0.02828\teval-mae:0.09455\n",
      "[2300]\ttrain-mae:0.02692\teval-mae:0.09448\n",
      "[2400]\ttrain-mae:0.02571\teval-mae:0.09444\n",
      "[2500]\ttrain-mae:0.02447\teval-mae:0.09439\n",
      "[2600]\ttrain-mae:0.02336\teval-mae:0.09430\n",
      "[2700]\ttrain-mae:0.02237\teval-mae:0.09425\n",
      "[2800]\ttrain-mae:0.02135\teval-mae:0.09418\n",
      "[2900]\ttrain-mae:0.02050\teval-mae:0.09415\n",
      "[3000]\ttrain-mae:0.01958\teval-mae:0.09411\n",
      "[3100]\ttrain-mae:0.01872\teval-mae:0.09408\n",
      "[3200]\ttrain-mae:0.01797\teval-mae:0.09402\n",
      "[3300]\ttrain-mae:0.01722\teval-mae:0.09400\n",
      "[3400]\ttrain-mae:0.01652\teval-mae:0.09397\n",
      "[3500]\ttrain-mae:0.01582\teval-mae:0.09393\n",
      "[3600]\ttrain-mae:0.01514\teval-mae:0.09393\n",
      "[3700]\ttrain-mae:0.01450\teval-mae:0.09391\n",
      "[3800]\ttrain-mae:0.01391\teval-mae:0.09387\n",
      "[3900]\ttrain-mae:0.01342\teval-mae:0.09385\n",
      "[4000]\ttrain-mae:0.01289\teval-mae:0.09382\n",
      "[4100]\ttrain-mae:0.01235\teval-mae:0.09382\n",
      "[4200]\ttrain-mae:0.01186\teval-mae:0.09381\n",
      "[4274]\ttrain-mae:0.01155\teval-mae:0.09382\n",
      "----------------------------10-----------------------------\n",
      "[17:44:38] WARNING: ../src/objective/regression_obj.cu:213: reg:linear is now deprecated in favor of reg:squarederror.\n",
      "[0]\ttrain-mae:5.19985\teval-mae:5.19415\n",
      "[100]\ttrain-mae:0.09844\teval-mae:0.10782\n",
      "[200]\ttrain-mae:0.08904\teval-mae:0.10408\n",
      "[300]\ttrain-mae:0.08236\teval-mae:0.10222\n",
      "[400]\ttrain-mae:0.07667\teval-mae:0.10089\n",
      "[500]\ttrain-mae:0.07182\teval-mae:0.09986\n",
      "[600]\ttrain-mae:0.06724\teval-mae:0.09914\n",
      "[700]\ttrain-mae:0.06342\teval-mae:0.09844\n",
      "[800]\ttrain-mae:0.05962\teval-mae:0.09785\n",
      "[900]\ttrain-mae:0.05629\teval-mae:0.09745\n",
      "[1000]\ttrain-mae:0.05330\teval-mae:0.09713\n",
      "[1100]\ttrain-mae:0.05052\teval-mae:0.09683\n",
      "[1200]\ttrain-mae:0.04785\teval-mae:0.09652\n",
      "[1300]\ttrain-mae:0.04526\teval-mae:0.09628\n",
      "[1400]\ttrain-mae:0.04282\teval-mae:0.09607\n",
      "[1500]\ttrain-mae:0.04065\teval-mae:0.09583\n",
      "[1600]\ttrain-mae:0.03865\teval-mae:0.09569\n",
      "[1700]\ttrain-mae:0.03677\teval-mae:0.09552\n",
      "[1800]\ttrain-mae:0.03494\teval-mae:0.09541\n",
      "[1900]\ttrain-mae:0.03337\teval-mae:0.09526\n",
      "[2000]\ttrain-mae:0.03175\teval-mae:0.09514\n",
      "[2100]\ttrain-mae:0.03029\teval-mae:0.09501\n",
      "[2200]\ttrain-mae:0.02887\teval-mae:0.09494\n",
      "[2300]\ttrain-mae:0.02759\teval-mae:0.09482\n",
      "[2400]\ttrain-mae:0.02632\teval-mae:0.09471\n",
      "[2500]\ttrain-mae:0.02521\teval-mae:0.09463\n",
      "[2600]\ttrain-mae:0.02412\teval-mae:0.09460\n",
      "[2700]\ttrain-mae:0.02301\teval-mae:0.09455\n",
      "[2800]\ttrain-mae:0.02199\teval-mae:0.09451\n",
      "[2900]\ttrain-mae:0.02104\teval-mae:0.09447\n",
      "[3000]\ttrain-mae:0.02015\teval-mae:0.09444\n",
      "[3100]\ttrain-mae:0.01926\teval-mae:0.09440\n",
      "[3200]\ttrain-mae:0.01848\teval-mae:0.09439\n",
      "[3300]\ttrain-mae:0.01768\teval-mae:0.09435\n",
      "[3400]\ttrain-mae:0.01695\teval-mae:0.09432\n",
      "[3500]\ttrain-mae:0.01623\teval-mae:0.09430\n",
      "[3600]\ttrain-mae:0.01553\teval-mae:0.09426\n",
      "[3700]\ttrain-mae:0.01492\teval-mae:0.09422\n",
      "[3800]\ttrain-mae:0.01425\teval-mae:0.09418\n",
      "[3900]\ttrain-mae:0.01369\teval-mae:0.09418\n",
      "[4000]\ttrain-mae:0.01314\teval-mae:0.09414\n",
      "[4100]\ttrain-mae:0.01261\teval-mae:0.09412\n",
      "[4200]\ttrain-mae:0.01209\teval-mae:0.09409\n",
      "[4300]\ttrain-mae:0.01163\teval-mae:0.09406\n",
      "[4400]\ttrain-mae:0.01119\teval-mae:0.09404\n",
      "[4500]\ttrain-mae:0.01075\teval-mae:0.09403\n",
      "[4600]\ttrain-mae:0.01031\teval-mae:0.09402\n",
      "[4700]\ttrain-mae:0.00995\teval-mae:0.09401\n",
      "[4769]\ttrain-mae:0.00967\teval-mae:0.09402\n",
      "----------------------------11-----------------------------\n",
      "[17:46:38] WARNING: ../src/objective/regression_obj.cu:213: reg:linear is now deprecated in favor of reg:squarederror.\n",
      "[0]\ttrain-mae:5.19887\teval-mae:5.20490\n",
      "[100]\ttrain-mae:0.09836\teval-mae:0.10713\n",
      "[200]\ttrain-mae:0.08907\teval-mae:0.10355\n",
      "[300]\ttrain-mae:0.08250\teval-mae:0.10166\n",
      "[400]\ttrain-mae:0.07696\teval-mae:0.10024\n",
      "[500]\ttrain-mae:0.07215\teval-mae:0.09918\n",
      "[600]\ttrain-mae:0.06778\teval-mae:0.09839\n",
      "[700]\ttrain-mae:0.06385\teval-mae:0.09781\n",
      "[800]\ttrain-mae:0.06021\teval-mae:0.09733\n",
      "[900]\ttrain-mae:0.05679\teval-mae:0.09688\n",
      "[1000]\ttrain-mae:0.05351\teval-mae:0.09648\n",
      "[1100]\ttrain-mae:0.05050\teval-mae:0.09612\n",
      "[1200]\ttrain-mae:0.04783\teval-mae:0.09577\n",
      "[1300]\ttrain-mae:0.04527\teval-mae:0.09549\n",
      "[1400]\ttrain-mae:0.04281\teval-mae:0.09528\n",
      "[1500]\ttrain-mae:0.04058\teval-mae:0.09506\n",
      "[1600]\ttrain-mae:0.03845\teval-mae:0.09489\n",
      "[1700]\ttrain-mae:0.03644\teval-mae:0.09471\n",
      "[1800]\ttrain-mae:0.03469\teval-mae:0.09457\n",
      "[1900]\ttrain-mae:0.03303\teval-mae:0.09444\n",
      "[2000]\ttrain-mae:0.03130\teval-mae:0.09430\n",
      "[2100]\ttrain-mae:0.02969\teval-mae:0.09417\n",
      "[2200]\ttrain-mae:0.02825\teval-mae:0.09407\n",
      "[2300]\ttrain-mae:0.02698\teval-mae:0.09400\n",
      "[2400]\ttrain-mae:0.02579\teval-mae:0.09391\n",
      "[2500]\ttrain-mae:0.02458\teval-mae:0.09383\n",
      "[2600]\ttrain-mae:0.02348\teval-mae:0.09375\n",
      "[2700]\ttrain-mae:0.02243\teval-mae:0.09371\n",
      "[2800]\ttrain-mae:0.02148\teval-mae:0.09367\n",
      "[2900]\ttrain-mae:0.02058\teval-mae:0.09362\n",
      "[3000]\ttrain-mae:0.01963\teval-mae:0.09357\n",
      "[3100]\ttrain-mae:0.01887\teval-mae:0.09353\n",
      "[3200]\ttrain-mae:0.01809\teval-mae:0.09349\n",
      "[3300]\ttrain-mae:0.01734\teval-mae:0.09343\n",
      "[3400]\ttrain-mae:0.01665\teval-mae:0.09340\n",
      "[3500]\ttrain-mae:0.01591\teval-mae:0.09336\n",
      "[3600]\ttrain-mae:0.01524\teval-mae:0.09334\n",
      "[3700]\ttrain-mae:0.01464\teval-mae:0.09332\n",
      "[3800]\ttrain-mae:0.01408\teval-mae:0.09331\n",
      "[3900]\ttrain-mae:0.01353\teval-mae:0.09328\n",
      "[4000]\ttrain-mae:0.01298\teval-mae:0.09325\n",
      "[4100]\ttrain-mae:0.01247\teval-mae:0.09324\n",
      "[4200]\ttrain-mae:0.01198\teval-mae:0.09322\n",
      "[4300]\ttrain-mae:0.01150\teval-mae:0.09320\n",
      "[4400]\ttrain-mae:0.01106\teval-mae:0.09318\n",
      "[4500]\ttrain-mae:0.01059\teval-mae:0.09316\n",
      "[4600]\ttrain-mae:0.01023\teval-mae:0.09315\n",
      "[4700]\ttrain-mae:0.00982\teval-mae:0.09314\n",
      "[4800]\ttrain-mae:0.00944\teval-mae:0.09313\n",
      "[4900]\ttrain-mae:0.00911\teval-mae:0.09312\n",
      "[4959]\ttrain-mae:0.00891\teval-mae:0.09312\n"
     ]
    }
   ],
   "source": [
    "xgb_test = xgb_model(x,y,df_test[features])"
   ]
  },
  {
   "cell_type": "code",
   "execution_count": null,
   "id": "e6252fa5-81e5-4235-8bc8-070ccc2835bd",
   "metadata": {},
   "outputs": [],
   "source": []
  },
  {
   "cell_type": "code",
   "execution_count": 89,
   "id": "010ce6f6-9d8a-4622-8144-14c5a15c1cb2",
   "metadata": {
    "execution": {
     "iopub.execute_input": "2023-03-22T09:18:26.341908Z",
     "iopub.status.busy": "2023-03-22T09:18:26.341355Z",
     "iopub.status.idle": "2023-03-22T09:18:26.345154Z",
     "shell.execute_reply": "2023-03-22T09:18:26.344433Z",
     "shell.execute_reply.started": "2023-03-22T09:18:26.341888Z"
    },
    "tags": []
   },
   "outputs": [],
   "source": []
  },
  {
   "cell_type": "code",
   "execution_count": null,
   "id": "ad1be0a6-36fc-4917-97d7-0012458fa5f8",
   "metadata": {},
   "outputs": [],
   "source": []
  }
 ],
 "metadata": {
  "kernelspec": {
   "display_name": "5k",
   "language": "python",
   "name": "5k"
  },
  "language_info": {
   "codemirror_mode": {
    "name": "ipython",
    "version": 3
   },
   "file_extension": ".py",
   "mimetype": "text/x-python",
   "name": "python",
   "nbconvert_exporter": "python",
   "pygments_lexer": "ipython3",
   "version": "3.8.13"
  }
 },
 "nbformat": 4,
 "nbformat_minor": 5
}
